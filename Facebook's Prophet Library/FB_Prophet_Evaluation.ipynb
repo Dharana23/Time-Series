{
  "nbformat": 4,
  "nbformat_minor": 0,
  "metadata": {
    "colab": {
      "name": "FB Prophet Evaluation.ipynb",
      "provenance": [],
      "collapsed_sections": []
    },
    "kernelspec": {
      "name": "python3",
      "display_name": "Python 3"
    },
    "accelerator": "GPU"
  },
  "cells": [
    {
      "cell_type": "code",
      "metadata": {
        "id": "DDJ4JHPri3tA",
        "colab_type": "code",
        "colab": {}
      },
      "source": [
        "import pandas as pd\n",
        "from fbprophet import Prophet"
      ],
      "execution_count": 29,
      "outputs": []
    },
    {
      "cell_type": "code",
      "metadata": {
        "id": "NdS9JVaP4QsU",
        "colab_type": "code",
        "colab": {}
      },
      "source": [
        "df = pd.read_csv('Miles_Traveled.csv')"
      ],
      "execution_count": 30,
      "outputs": []
    },
    {
      "cell_type": "code",
      "metadata": {
        "id": "61QCm-Jy6BE-",
        "colab_type": "code",
        "colab": {}
      },
      "source": [
        "df.columns = ['ds', 'y']\n",
        "df['ds'] = pd.to_datetime(df['ds'])"
      ],
      "execution_count": 31,
      "outputs": []
    },
    {
      "cell_type": "code",
      "metadata": {
        "id": "jwVqy0g36Kma",
        "colab_type": "code",
        "colab": {
          "base_uri": "https://localhost:8080/",
          "height": 206
        },
        "outputId": "0bd40410-b926-46ac-beb6-75a5ffd55fab"
      },
      "source": [
        "df.head()"
      ],
      "execution_count": 32,
      "outputs": [
        {
          "output_type": "execute_result",
          "data": {
            "text/html": [
              "<div>\n",
              "<style scoped>\n",
              "    .dataframe tbody tr th:only-of-type {\n",
              "        vertical-align: middle;\n",
              "    }\n",
              "\n",
              "    .dataframe tbody tr th {\n",
              "        vertical-align: top;\n",
              "    }\n",
              "\n",
              "    .dataframe thead th {\n",
              "        text-align: right;\n",
              "    }\n",
              "</style>\n",
              "<table border=\"1\" class=\"dataframe\">\n",
              "  <thead>\n",
              "    <tr style=\"text-align: right;\">\n",
              "      <th></th>\n",
              "      <th>ds</th>\n",
              "      <th>y</th>\n",
              "    </tr>\n",
              "  </thead>\n",
              "  <tbody>\n",
              "    <tr>\n",
              "      <th>0</th>\n",
              "      <td>1970-01-01</td>\n",
              "      <td>80173.0</td>\n",
              "    </tr>\n",
              "    <tr>\n",
              "      <th>1</th>\n",
              "      <td>1970-02-01</td>\n",
              "      <td>77442.0</td>\n",
              "    </tr>\n",
              "    <tr>\n",
              "      <th>2</th>\n",
              "      <td>1970-03-01</td>\n",
              "      <td>90223.0</td>\n",
              "    </tr>\n",
              "    <tr>\n",
              "      <th>3</th>\n",
              "      <td>1970-04-01</td>\n",
              "      <td>89956.0</td>\n",
              "    </tr>\n",
              "    <tr>\n",
              "      <th>4</th>\n",
              "      <td>1970-05-01</td>\n",
              "      <td>97972.0</td>\n",
              "    </tr>\n",
              "  </tbody>\n",
              "</table>\n",
              "</div>"
            ],
            "text/plain": [
              "          ds        y\n",
              "0 1970-01-01  80173.0\n",
              "1 1970-02-01  77442.0\n",
              "2 1970-03-01  90223.0\n",
              "3 1970-04-01  89956.0\n",
              "4 1970-05-01  97972.0"
            ]
          },
          "metadata": {
            "tags": []
          },
          "execution_count": 32
        }
      ]
    },
    {
      "cell_type": "code",
      "metadata": {
        "id": "nF6OfPNn6Lh5",
        "colab_type": "code",
        "colab": {
          "base_uri": "https://localhost:8080/",
          "height": 296
        },
        "outputId": "cbc56d33-07c0-4aec-943a-737dceedc292"
      },
      "source": [
        "df.plot(x='ds', y='y')"
      ],
      "execution_count": 33,
      "outputs": [
        {
          "output_type": "execute_result",
          "data": {
            "text/plain": [
              "<matplotlib.axes._subplots.AxesSubplot at 0x7fcc98d182e8>"
            ]
          },
          "metadata": {
            "tags": []
          },
          "execution_count": 33
        },
        {
          "output_type": "display_data",
          "data": {
            "image/png": "[encoded data removed]",
            "text/plain": [
              "<Figure size 432x288 with 1 Axes>"
            ]
          },
          "metadata": {
            "tags": [],
            "needs_background": "light"
          }
        }
      ]
    },
    {
      "cell_type": "code",
      "metadata": {
        "id": "H95e37Ew6Pd6",
        "colab_type": "code",
        "colab": {}
      },
      "source": [
        "train = df.iloc[:576]\n",
        "test = df.iloc[576:]"
      ],
      "execution_count": 34,
      "outputs": []
    },
    {
      "cell_type": "code",
      "metadata": {
        "id": "FC27m6qT6Z7a",
        "colab_type": "code",
        "colab": {
          "base_uri": "https://localhost:8080/",
          "height": 72
        },
        "outputId": "e900797a-be5d-4b19-b990-1de26fb32f61"
      },
      "source": [
        "m = Prophet()\n",
        "m.fit(train)\n",
        "future = m.make_future_dataframe(periods=12, freq='MS')\n",
        "forecast = m.predict(future)"
      ],
      "execution_count": 35,
      "outputs": [
        {
          "output_type": "stream",
          "text": [
            "INFO:fbprophet:Disabling weekly seasonality. Run prophet with weekly_seasonality=True to override this.\n",
            "INFO:fbprophet:Disabling daily seasonality. Run prophet with daily_seasonality=True to override this.\n"
          ],
          "name": "stderr"
        }
      ]
    },
    {
      "cell_type": "code",
      "metadata": {
        "id": "z0stFdgd6mRk",
        "colab_type": "code",
        "colab": {
          "base_uri": "https://localhost:8080/",
          "height": 446
        },
        "outputId": "12fbc998-9b57-48f6-dda0-7b30b8335bb8"
      },
      "source": [
        "forecast.tail(12)"
      ],
      "execution_count": 36,
      "outputs": [
        {
          "output_type": "execute_result",
          "data": {
            "text/html": [
              "<div>\n",
              "<style scoped>\n",
              "    .dataframe tbody tr th:only-of-type {\n",
              "        vertical-align: middle;\n",
              "    }\n",
              "\n",
              "    .dataframe tbody tr th {\n",
              "        vertical-align: top;\n",
              "    }\n",
              "\n",
              "    .dataframe thead th {\n",
              "        text-align: right;\n",
              "    }\n",
              "</style>\n",
              "<table border=\"1\" class=\"dataframe\">\n",
              "  <thead>\n",
              "    <tr style=\"text-align: right;\">\n",
              "      <th></th>\n",
              "      <th>ds</th>\n",
              "      <th>trend</th>\n",
              "      <th>yhat_lower</th>\n",
              "      <th>yhat_upper</th>\n",
              "      <th>trend_lower</th>\n",
              "      <th>trend_upper</th>\n",
              "      <th>additive_terms</th>\n",
              "      <th>additive_terms_lower</th>\n",
              "      <th>additive_terms_upper</th>\n",
              "      <th>yearly</th>\n",
              "      <th>yearly_lower</th>\n",
              "      <th>yearly_upper</th>\n",
              "      <th>multiplicative_terms</th>\n",
              "      <th>multiplicative_terms_lower</th>\n",
              "      <th>multiplicative_terms_upper</th>\n",
              "      <th>yhat</th>\n",
              "    </tr>\n",
              "  </thead>\n",
              "  <tbody>\n",
              "    <tr>\n",
              "      <th>576</th>\n",
              "      <td>2018-01-01</td>\n",
              "      <td>262438.915080</td>\n",
              "      <td>238200.109771</td>\n",
              "      <td>249626.873748</td>\n",
              "      <td>262438.915080</td>\n",
              "      <td>262438.915080</td>\n",
              "      <td>-18588.461143</td>\n",
              "      <td>-18588.461143</td>\n",
              "      <td>-18588.461143</td>\n",
              "      <td>-18588.461143</td>\n",
              "      <td>-18588.461143</td>\n",
              "      <td>-18588.461143</td>\n",
              "      <td>0.0</td>\n",
              "      <td>0.0</td>\n",
              "      <td>0.0</td>\n",
              "      <td>243850.453937</td>\n",
              "    </tr>\n",
              "    <tr>\n",
              "      <th>577</th>\n",
              "      <td>2018-02-01</td>\n",
              "      <td>262581.030416</td>\n",
              "      <td>229514.717976</td>\n",
              "      <td>241360.558942</td>\n",
              "      <td>262581.030416</td>\n",
              "      <td>262581.030416</td>\n",
              "      <td>-27100.441623</td>\n",
              "      <td>-27100.441623</td>\n",
              "      <td>-27100.441623</td>\n",
              "      <td>-27100.441623</td>\n",
              "      <td>-27100.441623</td>\n",
              "      <td>-27100.441623</td>\n",
              "      <td>0.0</td>\n",
              "      <td>0.0</td>\n",
              "      <td>0.0</td>\n",
              "      <td>235480.588794</td>\n",
              "    </tr>\n",
              "    <tr>\n",
              "      <th>578</th>\n",
              "      <td>2018-03-01</td>\n",
              "      <td>262709.392655</td>\n",
              "      <td>257059.743543</td>\n",
              "      <td>268418.172926</td>\n",
              "      <td>262709.392655</td>\n",
              "      <td>262709.392655</td>\n",
              "      <td>-26.118264</td>\n",
              "      <td>-26.118264</td>\n",
              "      <td>-26.118264</td>\n",
              "      <td>-26.118264</td>\n",
              "      <td>-26.118264</td>\n",
              "      <td>-26.118264</td>\n",
              "      <td>0.0</td>\n",
              "      <td>0.0</td>\n",
              "      <td>0.0</td>\n",
              "      <td>262683.274392</td>\n",
              "    </tr>\n",
              "    <tr>\n",
              "      <th>579</th>\n",
              "      <td>2018-04-01</td>\n",
              "      <td>262851.507991</td>\n",
              "      <td>257664.121894</td>\n",
              "      <td>269049.003124</td>\n",
              "      <td>262851.507991</td>\n",
              "      <td>262851.507991</td>\n",
              "      <td>34.728408</td>\n",
              "      <td>34.728408</td>\n",
              "      <td>34.728408</td>\n",
              "      <td>34.728408</td>\n",
              "      <td>34.728408</td>\n",
              "      <td>34.728408</td>\n",
              "      <td>0.0</td>\n",
              "      <td>0.0</td>\n",
              "      <td>0.0</td>\n",
              "      <td>262886.236399</td>\n",
              "    </tr>\n",
              "    <tr>\n",
              "      <th>580</th>\n",
              "      <td>2018-05-01</td>\n",
              "      <td>262989.038962</td>\n",
              "      <td>266947.845863</td>\n",
              "      <td>278343.986674</td>\n",
              "      <td>262988.272772</td>\n",
              "      <td>262989.038962</td>\n",
              "      <td>9620.483640</td>\n",
              "      <td>9620.483640</td>\n",
              "      <td>9620.483640</td>\n",
              "      <td>9620.483640</td>\n",
              "      <td>9620.483640</td>\n",
              "      <td>9620.483640</td>\n",
              "      <td>0.0</td>\n",
              "      <td>0.0</td>\n",
              "      <td>0.0</td>\n",
              "      <td>272609.522601</td>\n",
              "    </tr>\n",
              "    <tr>\n",
              "      <th>581</th>\n",
              "      <td>2018-06-01</td>\n",
              "      <td>263131.154298</td>\n",
              "      <td>267109.747887</td>\n",
              "      <td>278792.979642</td>\n",
              "      <td>263115.692032</td>\n",
              "      <td>263131.154298</td>\n",
              "      <td>9731.461002</td>\n",
              "      <td>9731.461002</td>\n",
              "      <td>9731.461002</td>\n",
              "      <td>9731.461002</td>\n",
              "      <td>9731.461002</td>\n",
              "      <td>9731.461002</td>\n",
              "      <td>0.0</td>\n",
              "      <td>0.0</td>\n",
              "      <td>0.0</td>\n",
              "      <td>272862.615300</td>\n",
              "    </tr>\n",
              "    <tr>\n",
              "      <th>582</th>\n",
              "      <td>2018-07-01</td>\n",
              "      <td>263268.685268</td>\n",
              "      <td>273733.365812</td>\n",
              "      <td>285418.391846</td>\n",
              "      <td>263223.525453</td>\n",
              "      <td>263268.685268</td>\n",
              "      <td>16053.155833</td>\n",
              "      <td>16053.155833</td>\n",
              "      <td>16053.155833</td>\n",
              "      <td>16053.155833</td>\n",
              "      <td>16053.155833</td>\n",
              "      <td>16053.155833</td>\n",
              "      <td>0.0</td>\n",
              "      <td>0.0</td>\n",
              "      <td>0.0</td>\n",
              "      <td>279321.841101</td>\n",
              "    </tr>\n",
              "    <tr>\n",
              "      <th>583</th>\n",
              "      <td>2018-08-01</td>\n",
              "      <td>263410.800604</td>\n",
              "      <td>274039.891520</td>\n",
              "      <td>285408.450991</td>\n",
              "      <td>263341.925860</td>\n",
              "      <td>263425.033627</td>\n",
              "      <td>16448.013049</td>\n",
              "      <td>16448.013049</td>\n",
              "      <td>16448.013049</td>\n",
              "      <td>16448.013049</td>\n",
              "      <td>16448.013049</td>\n",
              "      <td>16448.013049</td>\n",
              "      <td>0.0</td>\n",
              "      <td>0.0</td>\n",
              "      <td>0.0</td>\n",
              "      <td>279858.813654</td>\n",
              "    </tr>\n",
              "    <tr>\n",
              "      <th>584</th>\n",
              "      <td>2018-09-01</td>\n",
              "      <td>263552.915940</td>\n",
              "      <td>256487.548000</td>\n",
              "      <td>267933.477993</td>\n",
              "      <td>263451.529813</td>\n",
              "      <td>263593.289839</td>\n",
              "      <td>-1670.418537</td>\n",
              "      <td>-1670.418537</td>\n",
              "      <td>-1670.418537</td>\n",
              "      <td>-1670.418537</td>\n",
              "      <td>-1670.418537</td>\n",
              "      <td>-1670.418537</td>\n",
              "      <td>0.0</td>\n",
              "      <td>0.0</td>\n",
              "      <td>0.0</td>\n",
              "      <td>261882.497404</td>\n",
              "    </tr>\n",
              "    <tr>\n",
              "      <th>585</th>\n",
              "      <td>2018-10-01</td>\n",
              "      <td>263690.446911</td>\n",
              "      <td>263679.166322</td>\n",
              "      <td>274870.000758</td>\n",
              "      <td>263541.368032</td>\n",
              "      <td>263756.625938</td>\n",
              "      <td>5305.505873</td>\n",
              "      <td>5305.505873</td>\n",
              "      <td>5305.505873</td>\n",
              "      <td>5305.505873</td>\n",
              "      <td>5305.505873</td>\n",
              "      <td>5305.505873</td>\n",
              "      <td>0.0</td>\n",
              "      <td>0.0</td>\n",
              "      <td>0.0</td>\n",
              "      <td>268995.952784</td>\n",
              "    </tr>\n",
              "    <tr>\n",
              "      <th>586</th>\n",
              "      <td>2018-11-01</td>\n",
              "      <td>263832.562247</td>\n",
              "      <td>249581.247101</td>\n",
              "      <td>261119.683625</td>\n",
              "      <td>263629.063729</td>\n",
              "      <td>263926.307521</td>\n",
              "      <td>-8208.986942</td>\n",
              "      <td>-8208.986942</td>\n",
              "      <td>-8208.986942</td>\n",
              "      <td>-8208.986942</td>\n",
              "      <td>-8208.986942</td>\n",
              "      <td>-8208.986942</td>\n",
              "      <td>0.0</td>\n",
              "      <td>0.0</td>\n",
              "      <td>0.0</td>\n",
              "      <td>255623.575305</td>\n",
              "    </tr>\n",
              "    <tr>\n",
              "      <th>587</th>\n",
              "      <td>2018-12-01</td>\n",
              "      <td>263970.093217</td>\n",
              "      <td>251479.684164</td>\n",
              "      <td>262548.736777</td>\n",
              "      <td>263700.462274</td>\n",
              "      <td>264094.197432</td>\n",
              "      <td>-6922.716937</td>\n",
              "      <td>-6922.716937</td>\n",
              "      <td>-6922.716937</td>\n",
              "      <td>-6922.716937</td>\n",
              "      <td>-6922.716937</td>\n",
              "      <td>-6922.716937</td>\n",
              "      <td>0.0</td>\n",
              "      <td>0.0</td>\n",
              "      <td>0.0</td>\n",
              "      <td>257047.376280</td>\n",
              "    </tr>\n",
              "  </tbody>\n",
              "</table>\n",
              "</div>"
            ],
            "text/plain": [
              "            ds          trend  ...  multiplicative_terms_upper           yhat\n",
              "576 2018-01-01  262438.915080  ...                         0.0  243850.453937\n",
              "577 2018-02-01  262581.030416  ...                         0.0  235480.588794\n",
              "578 2018-03-01  262709.392655  ...                         0.0  262683.274392\n",
              "579 2018-04-01  262851.507991  ...                         0.0  262886.236399\n",
              "580 2018-05-01  262989.038962  ...                         0.0  272609.522601\n",
              "581 2018-06-01  263131.154298  ...                         0.0  272862.615300\n",
              "582 2018-07-01  263268.685268  ...                         0.0  279321.841101\n",
              "583 2018-08-01  263410.800604  ...                         0.0  279858.813654\n",
              "584 2018-09-01  263552.915940  ...                         0.0  261882.497404\n",
              "585 2018-10-01  263690.446911  ...                         0.0  268995.952784\n",
              "586 2018-11-01  263832.562247  ...                         0.0  255623.575305\n",
              "587 2018-12-01  263970.093217  ...                         0.0  257047.376280\n",
              "\n",
              "[12 rows x 16 columns]"
            ]
          },
          "metadata": {
            "tags": []
          },
          "execution_count": 36
        }
      ]
    },
    {
      "cell_type": "code",
      "metadata": {
        "id": "OloPlxMw8YK2",
        "colab_type": "code",
        "colab": {
          "base_uri": "https://localhost:8080/",
          "height": 485
        },
        "outputId": "c5cbcae1-2bc7-4d25-e6f4-744293def4e4"
      },
      "source": [
        "ax = forecast.plot(x='ds', y='yhat', label='Predictions', legend=True, figsize=(12,8))\n",
        "test.plot(x='ds', y='y', label='True Test Data', legend=True, ax=ax, xlim=('2018-01-01', '2019-01-01'))"
      ],
      "execution_count": 38,
      "outputs": [
        {
          "output_type": "execute_result",
          "data": {
            "text/plain": [
              "<matplotlib.axes._subplots.AxesSubplot at 0x7fcc98b834a8>"
            ]
          },
          "metadata": {
            "tags": []
          },
          "execution_count": 38
        },
        {
          "output_type": "display_data",
          "data": {
            "image/png": "[encoded data removed]",
            "text/plain": [
              "<Figure size 864x576 with 1 Axes>"
            ]
          },
          "metadata": {
            "tags": [],
            "needs_background": "light"
          }
        }
      ]
    },
    {
      "cell_type": "code",
      "metadata": {
        "id": "pT7A64-t9WU1",
        "colab_type": "code",
        "colab": {}
      },
      "source": [
        "from statsmodels.tools.eval_measures import rmse\n",
        "predictions = forecast.iloc[-12:]['yhat']"
      ],
      "execution_count": 39,
      "outputs": []
    },
    {
      "cell_type": "code",
      "metadata": {
        "id": "26FmoeV0-Jn3",
        "colab_type": "code",
        "colab": {
          "base_uri": "https://localhost:8080/",
          "height": 34
        },
        "outputId": "5ca593d8-4c83-4a48-c5a0-3d2515729ba2"
      },
      "source": [
        "rmse(predictions, test['y'])"
      ],
      "execution_count": 41,
      "outputs": [
        {
          "output_type": "execute_result",
          "data": {
            "text/plain": [
              "8618.783155559411"
            ]
          },
          "metadata": {
            "tags": []
          },
          "execution_count": 41
        }
      ]
    },
    {
      "cell_type": "code",
      "metadata": {
        "id": "3ON0eJmE-MRy",
        "colab_type": "code",
        "colab": {
          "base_uri": "https://localhost:8080/",
          "height": 52
        },
        "outputId": "d7ccecf5-1e2a-48a8-cd70-ae94787cbd1c"
      },
      "source": [
        "test.mean()"
      ],
      "execution_count": 42,
      "outputs": [
        {
          "output_type": "execute_result",
          "data": {
            "text/plain": [
              "y    268739.666667\n",
              "dtype: float64"
            ]
          },
          "metadata": {
            "tags": []
          },
          "execution_count": 42
        }
      ]
    },
    {
      "cell_type": "code",
      "metadata": {
        "id": "eokiGVjM-SiI",
        "colab_type": "code",
        "colab": {}
      },
      "source": [
        "from fbprophet.diagnostics import cross_validation, performance_metrics\n",
        "from fbprophet.plot import plot_cross_validation_metric"
      ],
      "execution_count": 43,
      "outputs": []
    },
    {
      "cell_type": "code",
      "metadata": {
        "id": "RBKHFKC6--Mi",
        "colab_type": "code",
        "colab": {}
      },
      "source": [
        "initial = 5 * 365\n",
        "initial = str(initial) + ' days'\n",
        "\n",
        "period = 5 * 365\n",
        "period = str(period) + ' days'\n",
        "\n",
        "horizon = 365\n",
        "horizon = str(horizon) + ' days'"
      ],
      "execution_count": 46,
      "outputs": []
    },
    {
      "cell_type": "code",
      "metadata": {
        "id": "Rn5v3dEH_38H",
        "colab_type": "code",
        "colab": {
          "base_uri": "https://localhost:8080/",
          "height": 54
        },
        "outputId": "52fe608e-796a-4681-c89d-147d6ce68598"
      },
      "source": [
        "df_cv = cross_validation(m, initial=initial, period=period, horizon=horizon)"
      ],
      "execution_count": 51,
      "outputs": [
        {
          "output_type": "stream",
          "text": [
            "INFO:fbprophet:Making 9 forecasts with cutoffs between 1976-12-11 00:00:00 and 2016-12-01 00:00:00\n"
          ],
          "name": "stderr"
        }
      ]
    },
    {
      "cell_type": "code",
      "metadata": {
        "id": "loh0ybmTAAwl",
        "colab_type": "code",
        "colab": {
          "base_uri": "https://localhost:8080/",
          "height": 206
        },
        "outputId": "6b0a30b1-c6c0-4fd3-d461-6fd8b47feba3"
      },
      "source": [
        "df_cv.head()"
      ],
      "execution_count": 52,
      "outputs": [
        {
          "output_type": "execute_result",
          "data": {
            "text/html": [
              "<div>\n",
              "<style scoped>\n",
              "    .dataframe tbody tr th:only-of-type {\n",
              "        vertical-align: middle;\n",
              "    }\n",
              "\n",
              "    .dataframe tbody tr th {\n",
              "        vertical-align: top;\n",
              "    }\n",
              "\n",
              "    .dataframe thead th {\n",
              "        text-align: right;\n",
              "    }\n",
              "</style>\n",
              "<table border=\"1\" class=\"dataframe\">\n",
              "  <thead>\n",
              "    <tr style=\"text-align: right;\">\n",
              "      <th></th>\n",
              "      <th>ds</th>\n",
              "      <th>yhat</th>\n",
              "      <th>yhat_lower</th>\n",
              "      <th>yhat_upper</th>\n",
              "      <th>y</th>\n",
              "      <th>cutoff</th>\n",
              "    </tr>\n",
              "  </thead>\n",
              "  <tbody>\n",
              "    <tr>\n",
              "      <th>0</th>\n",
              "      <td>1977-01-01</td>\n",
              "      <td>108479.087306</td>\n",
              "      <td>107094.681028</td>\n",
              "      <td>109907.658299</td>\n",
              "      <td>102445.0</td>\n",
              "      <td>1976-12-11</td>\n",
              "    </tr>\n",
              "    <tr>\n",
              "      <th>1</th>\n",
              "      <td>1977-02-01</td>\n",
              "      <td>102996.111502</td>\n",
              "      <td>101437.062711</td>\n",
              "      <td>104511.227226</td>\n",
              "      <td>102416.0</td>\n",
              "      <td>1976-12-11</td>\n",
              "    </tr>\n",
              "    <tr>\n",
              "      <th>2</th>\n",
              "      <td>1977-03-01</td>\n",
              "      <td>118973.317944</td>\n",
              "      <td>117594.433530</td>\n",
              "      <td>120349.959599</td>\n",
              "      <td>119960.0</td>\n",
              "      <td>1976-12-11</td>\n",
              "    </tr>\n",
              "    <tr>\n",
              "      <th>3</th>\n",
              "      <td>1977-04-01</td>\n",
              "      <td>120612.923539</td>\n",
              "      <td>119094.973013</td>\n",
              "      <td>122089.114474</td>\n",
              "      <td>121513.0</td>\n",
              "      <td>1976-12-11</td>\n",
              "    </tr>\n",
              "    <tr>\n",
              "      <th>4</th>\n",
              "      <td>1977-05-01</td>\n",
              "      <td>127883.031663</td>\n",
              "      <td>126343.411025</td>\n",
              "      <td>129376.395109</td>\n",
              "      <td>128884.0</td>\n",
              "      <td>1976-12-11</td>\n",
              "    </tr>\n",
              "  </tbody>\n",
              "</table>\n",
              "</div>"
            ],
            "text/plain": [
              "          ds           yhat     yhat_lower     yhat_upper         y     cutoff\n",
              "0 1977-01-01  108479.087306  107094.681028  109907.658299  102445.0 1976-12-11\n",
              "1 1977-02-01  102996.111502  101437.062711  104511.227226  102416.0 1976-12-11\n",
              "2 1977-03-01  118973.317944  117594.433530  120349.959599  119960.0 1976-12-11\n",
              "3 1977-04-01  120612.923539  119094.973013  122089.114474  121513.0 1976-12-11\n",
              "4 1977-05-01  127883.031663  126343.411025  129376.395109  128884.0 1976-12-11"
            ]
          },
          "metadata": {
            "tags": []
          },
          "execution_count": 52
        }
      ]
    },
    {
      "cell_type": "code",
      "metadata": {
        "id": "6pVNI-b4ANxV",
        "colab_type": "code",
        "colab": {}
      },
      "source": [
        "df_p = performance_metrics(df_cv)"
      ],
      "execution_count": 54,
      "outputs": []
    },
    {
      "cell_type": "code",
      "metadata": {
        "id": "vHGrLyWNAXZL",
        "colab_type": "code",
        "colab": {
          "base_uri": "https://localhost:8080/",
          "height": 206
        },
        "outputId": "3bac4874-061c-4cb2-d4b2-dddda0b6c179"
      },
      "source": [
        "df_p.head()"
      ],
      "execution_count": 55,
      "outputs": [
        {
          "output_type": "execute_result",
          "data": {
            "text/html": [
              "<div>\n",
              "<style scoped>\n",
              "    .dataframe tbody tr th:only-of-type {\n",
              "        vertical-align: middle;\n",
              "    }\n",
              "\n",
              "    .dataframe tbody tr th {\n",
              "        vertical-align: top;\n",
              "    }\n",
              "\n",
              "    .dataframe thead th {\n",
              "        text-align: right;\n",
              "    }\n",
              "</style>\n",
              "<table border=\"1\" class=\"dataframe\">\n",
              "  <thead>\n",
              "    <tr style=\"text-align: right;\">\n",
              "      <th></th>\n",
              "      <th>horizon</th>\n",
              "      <th>mse</th>\n",
              "      <th>rmse</th>\n",
              "      <th>mae</th>\n",
              "      <th>mape</th>\n",
              "      <th>mdape</th>\n",
              "      <th>coverage</th>\n",
              "    </tr>\n",
              "  </thead>\n",
              "  <tbody>\n",
              "    <tr>\n",
              "      <th>0</th>\n",
              "      <td>52 days</td>\n",
              "      <td>2.402227e+07</td>\n",
              "      <td>4901.251892</td>\n",
              "      <td>4506.384371</td>\n",
              "      <td>0.027631</td>\n",
              "      <td>0.023593</td>\n",
              "      <td>0.4</td>\n",
              "    </tr>\n",
              "    <tr>\n",
              "      <th>1</th>\n",
              "      <td>53 days</td>\n",
              "      <td>2.150811e+07</td>\n",
              "      <td>4637.683407</td>\n",
              "      <td>4238.662732</td>\n",
              "      <td>0.024863</td>\n",
              "      <td>0.023593</td>\n",
              "      <td>0.4</td>\n",
              "    </tr>\n",
              "    <tr>\n",
              "      <th>2</th>\n",
              "      <td>54 days</td>\n",
              "      <td>1.807689e+07</td>\n",
              "      <td>4251.692535</td>\n",
              "      <td>3708.943275</td>\n",
              "      <td>0.019933</td>\n",
              "      <td>0.022278</td>\n",
              "      <td>0.5</td>\n",
              "    </tr>\n",
              "    <tr>\n",
              "      <th>3</th>\n",
              "      <td>55 days</td>\n",
              "      <td>2.298205e+07</td>\n",
              "      <td>4793.960154</td>\n",
              "      <td>4236.275244</td>\n",
              "      <td>0.023042</td>\n",
              "      <td>0.023593</td>\n",
              "      <td>0.4</td>\n",
              "    </tr>\n",
              "    <tr>\n",
              "      <th>4</th>\n",
              "      <td>57 days</td>\n",
              "      <td>2.078937e+07</td>\n",
              "      <td>4559.535784</td>\n",
              "      <td>3972.087270</td>\n",
              "      <td>0.021317</td>\n",
              "      <td>0.022278</td>\n",
              "      <td>0.5</td>\n",
              "    </tr>\n",
              "  </tbody>\n",
              "</table>\n",
              "</div>"
            ],
            "text/plain": [
              "  horizon           mse         rmse          mae      mape     mdape  coverage\n",
              "0 52 days  2.402227e+07  4901.251892  4506.384371  0.027631  0.023593       0.4\n",
              "1 53 days  2.150811e+07  4637.683407  4238.662732  0.024863  0.023593       0.4\n",
              "2 54 days  1.807689e+07  4251.692535  3708.943275  0.019933  0.022278       0.5\n",
              "3 55 days  2.298205e+07  4793.960154  4236.275244  0.023042  0.023593       0.4\n",
              "4 57 days  2.078937e+07  4559.535784  3972.087270  0.021317  0.022278       0.5"
            ]
          },
          "metadata": {
            "tags": []
          },
          "execution_count": 55
        }
      ]
    },
    {
      "cell_type": "code",
      "metadata": {
        "id": "j8sNbnlfAbAW",
        "colab_type": "code",
        "colab": {
          "base_uri": "https://localhost:8080/",
          "height": 388
        },
        "outputId": "0ae045da-04eb-4c74-8388-d53cbe80227c"
      },
      "source": [
        "plot_cross_validation_metric(df_cv, metric='rmse');"
      ],
      "execution_count": 58,
      "outputs": [
        {
          "output_type": "display_data",
          "data": {
            "image/png": "[encoded data removed]",
            "text/plain": [
              "<Figure size 720x432 with 1 Axes>"
            ]
          },
          "metadata": {
            "tags": []
          }
        }
      ]
    },
    {
      "cell_type": "code",
      "metadata": {
        "id": "sn6HmuOwAnq8",
        "colab_type": "code",
        "colab": {}
      },
      "source": [
        ""
      ],
      "execution_count": null,
      "outputs": []
    }
  ]
}