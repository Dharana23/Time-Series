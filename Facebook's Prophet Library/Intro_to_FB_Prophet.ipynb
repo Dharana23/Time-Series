{
  "nbformat": 4,
  "nbformat_minor": 0,
  "metadata": {
    "colab": {
      "name": "Intro to FB Prophet.ipynb",
      "provenance": [],
      "collapsed_sections": []
    },
    "kernelspec": {
      "name": "python3",
      "display_name": "Python 3"
    },
    "accelerator": "GPU"
  },
  "cells": [
    {
      "cell_type": "code",
      "metadata": {
        "id": "DDJ4JHPri3tA",
        "colab_type": "code",
        "colab": {}
      },
      "source": [
        "import pandas as pd\n",
        "from fbprophet import Prophet"
      ],
      "execution_count": 2,
      "outputs": []
    },
    {
      "cell_type": "code",
      "metadata": {
        "id": "OzFgV-GEz9gD",
        "colab_type": "code",
        "colab": {}
      },
      "source": [
        "df = pd.read_csv('BeerWineLiquor.csv')"
      ],
      "execution_count": 3,
      "outputs": []
    },
    {
      "cell_type": "code",
      "metadata": {
        "id": "q7cSsUv90NC5",
        "colab_type": "code",
        "colab": {
          "base_uri": "https://localhost:8080/",
          "height": 206
        },
        "outputId": "436ad2ce-4467-4547-afbc-5182d3f61c17"
      },
      "source": [
        "df.head()"
      ],
      "execution_count": 4,
      "outputs": [
        {
          "output_type": "execute_result",
          "data": {
            "text/html": [
              "<div>\n",
              "<style scoped>\n",
              "    .dataframe tbody tr th:only-of-type {\n",
              "        vertical-align: middle;\n",
              "    }\n",
              "\n",
              "    .dataframe tbody tr th {\n",
              "        vertical-align: top;\n",
              "    }\n",
              "\n",
              "    .dataframe thead th {\n",
              "        text-align: right;\n",
              "    }\n",
              "</style>\n",
              "<table border=\"1\" class=\"dataframe\">\n",
              "  <thead>\n",
              "    <tr style=\"text-align: right;\">\n",
              "      <th></th>\n",
              "      <th>date</th>\n",
              "      <th>beer</th>\n",
              "    </tr>\n",
              "  </thead>\n",
              "  <tbody>\n",
              "    <tr>\n",
              "      <th>0</th>\n",
              "      <td>1/1/1992</td>\n",
              "      <td>1509</td>\n",
              "    </tr>\n",
              "    <tr>\n",
              "      <th>1</th>\n",
              "      <td>2/1/1992</td>\n",
              "      <td>1541</td>\n",
              "    </tr>\n",
              "    <tr>\n",
              "      <th>2</th>\n",
              "      <td>3/1/1992</td>\n",
              "      <td>1597</td>\n",
              "    </tr>\n",
              "    <tr>\n",
              "      <th>3</th>\n",
              "      <td>4/1/1992</td>\n",
              "      <td>1675</td>\n",
              "    </tr>\n",
              "    <tr>\n",
              "      <th>4</th>\n",
              "      <td>5/1/1992</td>\n",
              "      <td>1822</td>\n",
              "    </tr>\n",
              "  </tbody>\n",
              "</table>\n",
              "</div>"
            ],
            "text/plain": [
              "       date  beer\n",
              "0  1/1/1992  1509\n",
              "1  2/1/1992  1541\n",
              "2  3/1/1992  1597\n",
              "3  4/1/1992  1675\n",
              "4  5/1/1992  1822"
            ]
          },
          "metadata": {
            "tags": []
          },
          "execution_count": 4
        }
      ]
    },
    {
      "cell_type": "code",
      "metadata": {
        "id": "el_pNcj_0N4M",
        "colab_type": "code",
        "colab": {
          "base_uri": "https://localhost:8080/",
          "height": 173
        },
        "outputId": "a914acef-c25a-44d7-eee7-d1b7183779f8"
      },
      "source": [
        "df.info()"
      ],
      "execution_count": 5,
      "outputs": [
        {
          "output_type": "stream",
          "text": [
            "<class 'pandas.core.frame.DataFrame'>\n",
            "RangeIndex: 324 entries, 0 to 323\n",
            "Data columns (total 2 columns):\n",
            " #   Column  Non-Null Count  Dtype \n",
            "---  ------  --------------  ----- \n",
            " 0   date    324 non-null    object\n",
            " 1   beer    324 non-null    int64 \n",
            "dtypes: int64(1), object(1)\n",
            "memory usage: 5.2+ KB\n"
          ],
          "name": "stdout"
        }
      ]
    },
    {
      "cell_type": "code",
      "metadata": {
        "id": "Sm30cpFz0PIY",
        "colab_type": "code",
        "colab": {}
      },
      "source": [
        "df.columns = ['ds', 'y']"
      ],
      "execution_count": 6,
      "outputs": []
    },
    {
      "cell_type": "code",
      "metadata": {
        "id": "v0iNF8Nw0V4W",
        "colab_type": "code",
        "colab": {
          "base_uri": "https://localhost:8080/",
          "height": 206
        },
        "outputId": "91595881-4bae-46ef-af41-85d66db49567"
      },
      "source": [
        "df.head()"
      ],
      "execution_count": 7,
      "outputs": [
        {
          "output_type": "execute_result",
          "data": {
            "text/html": [
              "<div>\n",
              "<style scoped>\n",
              "    .dataframe tbody tr th:only-of-type {\n",
              "        vertical-align: middle;\n",
              "    }\n",
              "\n",
              "    .dataframe tbody tr th {\n",
              "        vertical-align: top;\n",
              "    }\n",
              "\n",
              "    .dataframe thead th {\n",
              "        text-align: right;\n",
              "    }\n",
              "</style>\n",
              "<table border=\"1\" class=\"dataframe\">\n",
              "  <thead>\n",
              "    <tr style=\"text-align: right;\">\n",
              "      <th></th>\n",
              "      <th>ds</th>\n",
              "      <th>y</th>\n",
              "    </tr>\n",
              "  </thead>\n",
              "  <tbody>\n",
              "    <tr>\n",
              "      <th>0</th>\n",
              "      <td>1/1/1992</td>\n",
              "      <td>1509</td>\n",
              "    </tr>\n",
              "    <tr>\n",
              "      <th>1</th>\n",
              "      <td>2/1/1992</td>\n",
              "      <td>1541</td>\n",
              "    </tr>\n",
              "    <tr>\n",
              "      <th>2</th>\n",
              "      <td>3/1/1992</td>\n",
              "      <td>1597</td>\n",
              "    </tr>\n",
              "    <tr>\n",
              "      <th>3</th>\n",
              "      <td>4/1/1992</td>\n",
              "      <td>1675</td>\n",
              "    </tr>\n",
              "    <tr>\n",
              "      <th>4</th>\n",
              "      <td>5/1/1992</td>\n",
              "      <td>1822</td>\n",
              "    </tr>\n",
              "  </tbody>\n",
              "</table>\n",
              "</div>"
            ],
            "text/plain": [
              "         ds     y\n",
              "0  1/1/1992  1509\n",
              "1  2/1/1992  1541\n",
              "2  3/1/1992  1597\n",
              "3  4/1/1992  1675\n",
              "4  5/1/1992  1822"
            ]
          },
          "metadata": {
            "tags": []
          },
          "execution_count": 7
        }
      ]
    },
    {
      "cell_type": "code",
      "metadata": {
        "id": "u_Vov8O20W6Q",
        "colab_type": "code",
        "colab": {}
      },
      "source": [
        "df['ds'] = pd.to_datetime(df['ds'])"
      ],
      "execution_count": 8,
      "outputs": []
    },
    {
      "cell_type": "code",
      "metadata": {
        "id": "j2N-DteY0ftK",
        "colab_type": "code",
        "colab": {
          "base_uri": "https://localhost:8080/",
          "height": 206
        },
        "outputId": "b7241129-7ebf-4cff-ad57-e72ce511a2f4"
      },
      "source": [
        "df.head()"
      ],
      "execution_count": 9,
      "outputs": [
        {
          "output_type": "execute_result",
          "data": {
            "text/html": [
              "<div>\n",
              "<style scoped>\n",
              "    .dataframe tbody tr th:only-of-type {\n",
              "        vertical-align: middle;\n",
              "    }\n",
              "\n",
              "    .dataframe tbody tr th {\n",
              "        vertical-align: top;\n",
              "    }\n",
              "\n",
              "    .dataframe thead th {\n",
              "        text-align: right;\n",
              "    }\n",
              "</style>\n",
              "<table border=\"1\" class=\"dataframe\">\n",
              "  <thead>\n",
              "    <tr style=\"text-align: right;\">\n",
              "      <th></th>\n",
              "      <th>ds</th>\n",
              "      <th>y</th>\n",
              "    </tr>\n",
              "  </thead>\n",
              "  <tbody>\n",
              "    <tr>\n",
              "      <th>0</th>\n",
              "      <td>1992-01-01</td>\n",
              "      <td>1509</td>\n",
              "    </tr>\n",
              "    <tr>\n",
              "      <th>1</th>\n",
              "      <td>1992-02-01</td>\n",
              "      <td>1541</td>\n",
              "    </tr>\n",
              "    <tr>\n",
              "      <th>2</th>\n",
              "      <td>1992-03-01</td>\n",
              "      <td>1597</td>\n",
              "    </tr>\n",
              "    <tr>\n",
              "      <th>3</th>\n",
              "      <td>1992-04-01</td>\n",
              "      <td>1675</td>\n",
              "    </tr>\n",
              "    <tr>\n",
              "      <th>4</th>\n",
              "      <td>1992-05-01</td>\n",
              "      <td>1822</td>\n",
              "    </tr>\n",
              "  </tbody>\n",
              "</table>\n",
              "</div>"
            ],
            "text/plain": [
              "          ds     y\n",
              "0 1992-01-01  1509\n",
              "1 1992-02-01  1541\n",
              "2 1992-03-01  1597\n",
              "3 1992-04-01  1675\n",
              "4 1992-05-01  1822"
            ]
          },
          "metadata": {
            "tags": []
          },
          "execution_count": 9
        }
      ]
    },
    {
      "cell_type": "code",
      "metadata": {
        "id": "6U_v2JnQ0gZZ",
        "colab_type": "code",
        "colab": {
          "base_uri": "https://localhost:8080/",
          "height": 106
        },
        "outputId": "3ab26993-74b2-44c7-b724-1f9b1e60d709"
      },
      "source": [
        "m = Prophet()\n",
        "m.fit(df)"
      ],
      "execution_count": 10,
      "outputs": [
        {
          "output_type": "stream",
          "text": [
            "INFO:numexpr.utils:NumExpr defaulting to 2 threads.\n",
            "INFO:fbprophet:Disabling weekly seasonality. Run prophet with weekly_seasonality=True to override this.\n",
            "INFO:fbprophet:Disabling daily seasonality. Run prophet with daily_seasonality=True to override this.\n"
          ],
          "name": "stderr"
        },
        {
          "output_type": "execute_result",
          "data": {
            "text/plain": [
              "<fbprophet.forecaster.Prophet at 0x7fccb1f2db00>"
            ]
          },
          "metadata": {
            "tags": []
          },
          "execution_count": 10
        }
      ]
    },
    {
      "cell_type": "code",
      "metadata": {
        "id": "P2L4DJOc0zNL",
        "colab_type": "code",
        "colab": {}
      },
      "source": [
        "future = m.make_future_dataframe(periods=24, freq='MS')"
      ],
      "execution_count": 12,
      "outputs": []
    },
    {
      "cell_type": "code",
      "metadata": {
        "id": "GNxYuqr010R_",
        "colab_type": "code",
        "colab": {
          "base_uri": "https://localhost:8080/",
          "height": 206
        },
        "outputId": "df14d7bb-f379-403a-8224-b063fa052bb0"
      },
      "source": [
        "future.tail()"
      ],
      "execution_count": 13,
      "outputs": [
        {
          "output_type": "execute_result",
          "data": {
            "text/html": [
              "<div>\n",
              "<style scoped>\n",
              "    .dataframe tbody tr th:only-of-type {\n",
              "        vertical-align: middle;\n",
              "    }\n",
              "\n",
              "    .dataframe tbody tr th {\n",
              "        vertical-align: top;\n",
              "    }\n",
              "\n",
              "    .dataframe thead th {\n",
              "        text-align: right;\n",
              "    }\n",
              "</style>\n",
              "<table border=\"1\" class=\"dataframe\">\n",
              "  <thead>\n",
              "    <tr style=\"text-align: right;\">\n",
              "      <th></th>\n",
              "      <th>ds</th>\n",
              "    </tr>\n",
              "  </thead>\n",
              "  <tbody>\n",
              "    <tr>\n",
              "      <th>343</th>\n",
              "      <td>2020-08-01</td>\n",
              "    </tr>\n",
              "    <tr>\n",
              "      <th>344</th>\n",
              "      <td>2020-09-01</td>\n",
              "    </tr>\n",
              "    <tr>\n",
              "      <th>345</th>\n",
              "      <td>2020-10-01</td>\n",
              "    </tr>\n",
              "    <tr>\n",
              "      <th>346</th>\n",
              "      <td>2020-11-01</td>\n",
              "    </tr>\n",
              "    <tr>\n",
              "      <th>347</th>\n",
              "      <td>2020-12-01</td>\n",
              "    </tr>\n",
              "  </tbody>\n",
              "</table>\n",
              "</div>"
            ],
            "text/plain": [
              "            ds\n",
              "343 2020-08-01\n",
              "344 2020-09-01\n",
              "345 2020-10-01\n",
              "346 2020-11-01\n",
              "347 2020-12-01"
            ]
          },
          "metadata": {
            "tags": []
          },
          "execution_count": 13
        }
      ]
    },
    {
      "cell_type": "code",
      "metadata": {
        "id": "itVEjqW717BN",
        "colab_type": "code",
        "colab": {
          "base_uri": "https://localhost:8080/",
          "height": 206
        },
        "outputId": "313661fe-a161-4093-b646-3aecd80cef43"
      },
      "source": [
        "df.tail()"
      ],
      "execution_count": 14,
      "outputs": [
        {
          "output_type": "execute_result",
          "data": {
            "text/html": [
              "<div>\n",
              "<style scoped>\n",
              "    .dataframe tbody tr th:only-of-type {\n",
              "        vertical-align: middle;\n",
              "    }\n",
              "\n",
              "    .dataframe tbody tr th {\n",
              "        vertical-align: top;\n",
              "    }\n",
              "\n",
              "    .dataframe thead th {\n",
              "        text-align: right;\n",
              "    }\n",
              "</style>\n",
              "<table border=\"1\" class=\"dataframe\">\n",
              "  <thead>\n",
              "    <tr style=\"text-align: right;\">\n",
              "      <th></th>\n",
              "      <th>ds</th>\n",
              "      <th>y</th>\n",
              "    </tr>\n",
              "  </thead>\n",
              "  <tbody>\n",
              "    <tr>\n",
              "      <th>319</th>\n",
              "      <td>2018-08-01</td>\n",
              "      <td>4898</td>\n",
              "    </tr>\n",
              "    <tr>\n",
              "      <th>320</th>\n",
              "      <td>2018-09-01</td>\n",
              "      <td>4598</td>\n",
              "    </tr>\n",
              "    <tr>\n",
              "      <th>321</th>\n",
              "      <td>2018-10-01</td>\n",
              "      <td>4737</td>\n",
              "    </tr>\n",
              "    <tr>\n",
              "      <th>322</th>\n",
              "      <td>2018-11-01</td>\n",
              "      <td>5130</td>\n",
              "    </tr>\n",
              "    <tr>\n",
              "      <th>323</th>\n",
              "      <td>2018-12-01</td>\n",
              "      <td>6370</td>\n",
              "    </tr>\n",
              "  </tbody>\n",
              "</table>\n",
              "</div>"
            ],
            "text/plain": [
              "            ds     y\n",
              "319 2018-08-01  4898\n",
              "320 2018-09-01  4598\n",
              "321 2018-10-01  4737\n",
              "322 2018-11-01  5130\n",
              "323 2018-12-01  6370"
            ]
          },
          "metadata": {
            "tags": []
          },
          "execution_count": 14
        }
      ]
    },
    {
      "cell_type": "code",
      "metadata": {
        "id": "Gh7G_8Gm18jg",
        "colab_type": "code",
        "colab": {}
      },
      "source": [
        "forecast = m.predict(future)"
      ],
      "execution_count": 15,
      "outputs": []
    },
    {
      "cell_type": "code",
      "metadata": {
        "id": "sW1SNRyj2LFq",
        "colab_type": "code",
        "colab": {
          "base_uri": "https://localhost:8080/",
          "height": 444
        },
        "outputId": "8d50149a-f95a-4c78-82d6-dbfd95898101"
      },
      "source": [
        "forecast"
      ],
      "execution_count": 16,
      "outputs": [
        {
          "output_type": "execute_result",
          "data": {
            "text/html": [
              "<div>\n",
              "<style scoped>\n",
              "    .dataframe tbody tr th:only-of-type {\n",
              "        vertical-align: middle;\n",
              "    }\n",
              "\n",
              "    .dataframe tbody tr th {\n",
              "        vertical-align: top;\n",
              "    }\n",
              "\n",
              "    .dataframe thead th {\n",
              "        text-align: right;\n",
              "    }\n",
              "</style>\n",
              "<table border=\"1\" class=\"dataframe\">\n",
              "  <thead>\n",
              "    <tr style=\"text-align: right;\">\n",
              "      <th></th>\n",
              "      <th>ds</th>\n",
              "      <th>trend</th>\n",
              "      <th>yhat_lower</th>\n",
              "      <th>yhat_upper</th>\n",
              "      <th>trend_lower</th>\n",
              "      <th>trend_upper</th>\n",
              "      <th>additive_terms</th>\n",
              "      <th>additive_terms_lower</th>\n",
              "      <th>additive_terms_upper</th>\n",
              "      <th>yearly</th>\n",
              "      <th>yearly_lower</th>\n",
              "      <th>yearly_upper</th>\n",
              "      <th>multiplicative_terms</th>\n",
              "      <th>multiplicative_terms_lower</th>\n",
              "      <th>multiplicative_terms_upper</th>\n",
              "      <th>yhat</th>\n",
              "    </tr>\n",
              "  </thead>\n",
              "  <tbody>\n",
              "    <tr>\n",
              "      <th>0</th>\n",
              "      <td>1992-01-01</td>\n",
              "      <td>1765.609137</td>\n",
              "      <td>1134.612916</td>\n",
              "      <td>1473.669540</td>\n",
              "      <td>1765.609137</td>\n",
              "      <td>1765.609137</td>\n",
              "      <td>-461.433071</td>\n",
              "      <td>-461.433071</td>\n",
              "      <td>-461.433071</td>\n",
              "      <td>-461.433071</td>\n",
              "      <td>-461.433071</td>\n",
              "      <td>-461.433071</td>\n",
              "      <td>0.0</td>\n",
              "      <td>0.0</td>\n",
              "      <td>0.0</td>\n",
              "      <td>1304.176066</td>\n",
              "    </tr>\n",
              "    <tr>\n",
              "      <th>1</th>\n",
              "      <td>1992-02-01</td>\n",
              "      <td>1768.666905</td>\n",
              "      <td>1178.897816</td>\n",
              "      <td>1508.328974</td>\n",
              "      <td>1768.666905</td>\n",
              "      <td>1768.666905</td>\n",
              "      <td>-426.696951</td>\n",
              "      <td>-426.696951</td>\n",
              "      <td>-426.696951</td>\n",
              "      <td>-426.696951</td>\n",
              "      <td>-426.696951</td>\n",
              "      <td>-426.696951</td>\n",
              "      <td>0.0</td>\n",
              "      <td>0.0</td>\n",
              "      <td>0.0</td>\n",
              "      <td>1341.969954</td>\n",
              "    </tr>\n",
              "    <tr>\n",
              "      <th>2</th>\n",
              "      <td>1992-03-01</td>\n",
              "      <td>1771.527398</td>\n",
              "      <td>1437.747828</td>\n",
              "      <td>1754.080806</td>\n",
              "      <td>1771.527398</td>\n",
              "      <td>1771.527398</td>\n",
              "      <td>-178.651299</td>\n",
              "      <td>-178.651299</td>\n",
              "      <td>-178.651299</td>\n",
              "      <td>-178.651299</td>\n",
              "      <td>-178.651299</td>\n",
              "      <td>-178.651299</td>\n",
              "      <td>0.0</td>\n",
              "      <td>0.0</td>\n",
              "      <td>0.0</td>\n",
              "      <td>1592.876098</td>\n",
              "    </tr>\n",
              "    <tr>\n",
              "      <th>3</th>\n",
              "      <td>1992-04-01</td>\n",
              "      <td>1774.585166</td>\n",
              "      <td>1412.693648</td>\n",
              "      <td>1746.469934</td>\n",
              "      <td>1774.585166</td>\n",
              "      <td>1774.585166</td>\n",
              "      <td>-196.147147</td>\n",
              "      <td>-196.147147</td>\n",
              "      <td>-196.147147</td>\n",
              "      <td>-196.147147</td>\n",
              "      <td>-196.147147</td>\n",
              "      <td>-196.147147</td>\n",
              "      <td>0.0</td>\n",
              "      <td>0.0</td>\n",
              "      <td>0.0</td>\n",
              "      <td>1578.438018</td>\n",
              "    </tr>\n",
              "    <tr>\n",
              "      <th>4</th>\n",
              "      <td>1992-05-01</td>\n",
              "      <td>1777.544296</td>\n",
              "      <td>1673.186928</td>\n",
              "      <td>1998.959387</td>\n",
              "      <td>1777.544296</td>\n",
              "      <td>1777.544296</td>\n",
              "      <td>44.823220</td>\n",
              "      <td>44.823220</td>\n",
              "      <td>44.823220</td>\n",
              "      <td>44.823220</td>\n",
              "      <td>44.823220</td>\n",
              "      <td>44.823220</td>\n",
              "      <td>0.0</td>\n",
              "      <td>0.0</td>\n",
              "      <td>0.0</td>\n",
              "      <td>1822.367516</td>\n",
              "    </tr>\n",
              "    <tr>\n",
              "      <th>...</th>\n",
              "      <td>...</td>\n",
              "      <td>...</td>\n",
              "      <td>...</td>\n",
              "      <td>...</td>\n",
              "      <td>...</td>\n",
              "      <td>...</td>\n",
              "      <td>...</td>\n",
              "      <td>...</td>\n",
              "      <td>...</td>\n",
              "      <td>...</td>\n",
              "      <td>...</td>\n",
              "      <td>...</td>\n",
              "      <td>...</td>\n",
              "      <td>...</td>\n",
              "      <td>...</td>\n",
              "      <td>...</td>\n",
              "    </tr>\n",
              "    <tr>\n",
              "      <th>343</th>\n",
              "      <td>2020-08-01</td>\n",
              "      <td>5201.232291</td>\n",
              "      <td>5077.727381</td>\n",
              "      <td>5401.408138</td>\n",
              "      <td>5189.441285</td>\n",
              "      <td>5211.873182</td>\n",
              "      <td>39.473660</td>\n",
              "      <td>39.473660</td>\n",
              "      <td>39.473660</td>\n",
              "      <td>39.473660</td>\n",
              "      <td>39.473660</td>\n",
              "      <td>39.473660</td>\n",
              "      <td>0.0</td>\n",
              "      <td>0.0</td>\n",
              "      <td>0.0</td>\n",
              "      <td>5240.705951</td>\n",
              "    </tr>\n",
              "    <tr>\n",
              "      <th>344</th>\n",
              "      <td>2020-09-01</td>\n",
              "      <td>5217.295945</td>\n",
              "      <td>4931.222735</td>\n",
              "      <td>5255.120526</td>\n",
              "      <td>5204.618735</td>\n",
              "      <td>5228.843929</td>\n",
              "      <td>-133.727623</td>\n",
              "      <td>-133.727623</td>\n",
              "      <td>-133.727623</td>\n",
              "      <td>-133.727623</td>\n",
              "      <td>-133.727623</td>\n",
              "      <td>-133.727623</td>\n",
              "      <td>0.0</td>\n",
              "      <td>0.0</td>\n",
              "      <td>0.0</td>\n",
              "      <td>5083.568322</td>\n",
              "    </tr>\n",
              "    <tr>\n",
              "      <th>345</th>\n",
              "      <td>2020-10-01</td>\n",
              "      <td>5232.841416</td>\n",
              "      <td>5030.323012</td>\n",
              "      <td>5357.550370</td>\n",
              "      <td>5219.145435</td>\n",
              "      <td>5245.744338</td>\n",
              "      <td>-43.568316</td>\n",
              "      <td>-43.568316</td>\n",
              "      <td>-43.568316</td>\n",
              "      <td>-43.568316</td>\n",
              "      <td>-43.568316</td>\n",
              "      <td>-43.568316</td>\n",
              "      <td>0.0</td>\n",
              "      <td>0.0</td>\n",
              "      <td>0.0</td>\n",
              "      <td>5189.273100</td>\n",
              "    </tr>\n",
              "    <tr>\n",
              "      <th>346</th>\n",
              "      <td>2020-11-01</td>\n",
              "      <td>5248.905070</td>\n",
              "      <td>5174.616622</td>\n",
              "      <td>5492.688385</td>\n",
              "      <td>5233.915769</td>\n",
              "      <td>5262.603470</td>\n",
              "      <td>87.524399</td>\n",
              "      <td>87.524399</td>\n",
              "      <td>87.524399</td>\n",
              "      <td>87.524399</td>\n",
              "      <td>87.524399</td>\n",
              "      <td>87.524399</td>\n",
              "      <td>0.0</td>\n",
              "      <td>0.0</td>\n",
              "      <td>0.0</td>\n",
              "      <td>5336.429469</td>\n",
              "    </tr>\n",
              "    <tr>\n",
              "      <th>347</th>\n",
              "      <td>2020-12-01</td>\n",
              "      <td>5264.450542</td>\n",
              "      <td>6162.329353</td>\n",
              "      <td>6496.840043</td>\n",
              "      <td>5248.629112</td>\n",
              "      <td>5279.291878</td>\n",
              "      <td>1070.542133</td>\n",
              "      <td>1070.542133</td>\n",
              "      <td>1070.542133</td>\n",
              "      <td>1070.542133</td>\n",
              "      <td>1070.542133</td>\n",
              "      <td>1070.542133</td>\n",
              "      <td>0.0</td>\n",
              "      <td>0.0</td>\n",
              "      <td>0.0</td>\n",
              "      <td>6334.992675</td>\n",
              "    </tr>\n",
              "  </tbody>\n",
              "</table>\n",
              "<p>348 rows × 16 columns</p>\n",
              "</div>"
            ],
            "text/plain": [
              "            ds        trend  ...  multiplicative_terms_upper         yhat\n",
              "0   1992-01-01  1765.609137  ...                         0.0  1304.176066\n",
              "1   1992-02-01  1768.666905  ...                         0.0  1341.969954\n",
              "2   1992-03-01  1771.527398  ...                         0.0  1592.876098\n",
              "3   1992-04-01  1774.585166  ...                         0.0  1578.438018\n",
              "4   1992-05-01  1777.544296  ...                         0.0  1822.367516\n",
              "..         ...          ...  ...                         ...          ...\n",
              "343 2020-08-01  5201.232291  ...                         0.0  5240.705951\n",
              "344 2020-09-01  5217.295945  ...                         0.0  5083.568322\n",
              "345 2020-10-01  5232.841416  ...                         0.0  5189.273100\n",
              "346 2020-11-01  5248.905070  ...                         0.0  5336.429469\n",
              "347 2020-12-01  5264.450542  ...                         0.0  6334.992675\n",
              "\n",
              "[348 rows x 16 columns]"
            ]
          },
          "metadata": {
            "tags": []
          },
          "execution_count": 16
        }
      ]
    },
    {
      "cell_type": "code",
      "metadata": {
        "id": "DFqvornO2OmL",
        "colab_type": "code",
        "colab": {
          "base_uri": "https://localhost:8080/",
          "height": 426
        },
        "outputId": "875149b0-50e0-40e0-a8b7-b26845fc0857"
      },
      "source": [
        "forecast[['ds', 'yhat_lower', 'yhat_upper', 'yhat']].tail(12)"
      ],
      "execution_count": 17,
      "outputs": [
        {
          "output_type": "execute_result",
          "data": {
            "text/html": [
              "<div>\n",
              "<style scoped>\n",
              "    .dataframe tbody tr th:only-of-type {\n",
              "        vertical-align: middle;\n",
              "    }\n",
              "\n",
              "    .dataframe tbody tr th {\n",
              "        vertical-align: top;\n",
              "    }\n",
              "\n",
              "    .dataframe thead th {\n",
              "        text-align: right;\n",
              "    }\n",
              "</style>\n",
              "<table border=\"1\" class=\"dataframe\">\n",
              "  <thead>\n",
              "    <tr style=\"text-align: right;\">\n",
              "      <th></th>\n",
              "      <th>ds</th>\n",
              "      <th>yhat_lower</th>\n",
              "      <th>yhat_upper</th>\n",
              "      <th>yhat</th>\n",
              "    </tr>\n",
              "  </thead>\n",
              "  <tbody>\n",
              "    <tr>\n",
              "      <th>336</th>\n",
              "      <td>2020-01-01</td>\n",
              "      <td>4456.662652</td>\n",
              "      <td>4805.827554</td>\n",
              "      <td>4629.426372</td>\n",
              "    </tr>\n",
              "    <tr>\n",
              "      <th>337</th>\n",
              "      <td>2020-02-01</td>\n",
              "      <td>4509.107245</td>\n",
              "      <td>4833.467007</td>\n",
              "      <td>4680.226146</td>\n",
              "    </tr>\n",
              "    <tr>\n",
              "      <th>338</th>\n",
              "      <td>2020-03-01</td>\n",
              "      <td>4783.226115</td>\n",
              "      <td>5104.060747</td>\n",
              "      <td>4943.299086</td>\n",
              "    </tr>\n",
              "    <tr>\n",
              "      <th>339</th>\n",
              "      <td>2020-04-01</td>\n",
              "      <td>4787.100741</td>\n",
              "      <td>5095.927116</td>\n",
              "      <td>4941.866893</td>\n",
              "    </tr>\n",
              "    <tr>\n",
              "      <th>340</th>\n",
              "      <td>2020-05-01</td>\n",
              "      <td>5034.943210</td>\n",
              "      <td>5357.403596</td>\n",
              "      <td>5198.382732</td>\n",
              "    </tr>\n",
              "    <tr>\n",
              "      <th>341</th>\n",
              "      <td>2020-06-01</td>\n",
              "      <td>5003.616117</td>\n",
              "      <td>5338.822631</td>\n",
              "      <td>5178.976562</td>\n",
              "    </tr>\n",
              "    <tr>\n",
              "      <th>342</th>\n",
              "      <td>2020-07-01</td>\n",
              "      <td>5139.962792</td>\n",
              "      <td>5464.255899</td>\n",
              "      <td>5311.178497</td>\n",
              "    </tr>\n",
              "    <tr>\n",
              "      <th>343</th>\n",
              "      <td>2020-08-01</td>\n",
              "      <td>5077.727381</td>\n",
              "      <td>5401.408138</td>\n",
              "      <td>5240.705951</td>\n",
              "    </tr>\n",
              "    <tr>\n",
              "      <th>344</th>\n",
              "      <td>2020-09-01</td>\n",
              "      <td>4931.222735</td>\n",
              "      <td>5255.120526</td>\n",
              "      <td>5083.568322</td>\n",
              "    </tr>\n",
              "    <tr>\n",
              "      <th>345</th>\n",
              "      <td>2020-10-01</td>\n",
              "      <td>5030.323012</td>\n",
              "      <td>5357.550370</td>\n",
              "      <td>5189.273100</td>\n",
              "    </tr>\n",
              "    <tr>\n",
              "      <th>346</th>\n",
              "      <td>2020-11-01</td>\n",
              "      <td>5174.616622</td>\n",
              "      <td>5492.688385</td>\n",
              "      <td>5336.429469</td>\n",
              "    </tr>\n",
              "    <tr>\n",
              "      <th>347</th>\n",
              "      <td>2020-12-01</td>\n",
              "      <td>6162.329353</td>\n",
              "      <td>6496.840043</td>\n",
              "      <td>6334.992675</td>\n",
              "    </tr>\n",
              "  </tbody>\n",
              "</table>\n",
              "</div>"
            ],
            "text/plain": [
              "            ds   yhat_lower   yhat_upper         yhat\n",
              "336 2020-01-01  4456.662652  4805.827554  4629.426372\n",
              "337 2020-02-01  4509.107245  4833.467007  4680.226146\n",
              "338 2020-03-01  4783.226115  5104.060747  4943.299086\n",
              "339 2020-04-01  4787.100741  5095.927116  4941.866893\n",
              "340 2020-05-01  5034.943210  5357.403596  5198.382732\n",
              "341 2020-06-01  5003.616117  5338.822631  5178.976562\n",
              "342 2020-07-01  5139.962792  5464.255899  5311.178497\n",
              "343 2020-08-01  5077.727381  5401.408138  5240.705951\n",
              "344 2020-09-01  4931.222735  5255.120526  5083.568322\n",
              "345 2020-10-01  5030.323012  5357.550370  5189.273100\n",
              "346 2020-11-01  5174.616622  5492.688385  5336.429469\n",
              "347 2020-12-01  6162.329353  6496.840043  6334.992675"
            ]
          },
          "metadata": {
            "tags": []
          },
          "execution_count": 17
        }
      ]
    },
    {
      "cell_type": "code",
      "metadata": {
        "id": "weh4y3l52iWw",
        "colab_type": "code",
        "colab": {
          "base_uri": "https://localhost:8080/",
          "height": 423
        },
        "outputId": "45c0872e-9cd5-48b3-ff35-e975050a550b"
      },
      "source": [
        "m.plot(forecast);"
      ],
      "execution_count": 26,
      "outputs": [
        {
          "output_type": "display_data",
          "data": {
            "image/png": "[encoded data removed]",
            "text/plain": [
              "<Figure size 720x432 with 1 Axes>"
            ]
          },
          "metadata": {
            "tags": []
          }
        }
      ]
    },
    {
      "cell_type": "code",
      "metadata": {
        "id": "U3E0RoZX2pwg",
        "colab_type": "code",
        "colab": {
          "base_uri": "https://localhost:8080/",
          "height": 441
        },
        "outputId": "526c3d93-adcf-4000-8005-5e063f7054e2"
      },
      "source": [
        "m.plot_components(forecast);"
      ],
      "execution_count": 28,
      "outputs": [
        {
          "output_type": "display_data",
          "data": {
            "image/png": "[encoded data removed]",
            "text/plain": [
              "<Figure size 648x432 with 2 Axes>"
            ]
          },
          "metadata": {
            "tags": []
          }
        }
      ]
    },
    {
      "cell_type": "code",
      "metadata": {
        "id": "NdS9JVaP4QsU",
        "colab_type": "code",
        "colab": {}
      },
      "source": [
        ""
      ],
      "execution_count": null,
      "outputs": []
    }
  ]
}