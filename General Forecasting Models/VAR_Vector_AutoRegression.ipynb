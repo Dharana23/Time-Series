{
  "nbformat": 4,
  "nbformat_minor": 0,
  "metadata": {
    "colab": {
      "name": "VAR-Vector AutoRegression.ipynb",
      "provenance": []
    },
    "kernelspec": {
      "name": "python3",
      "display_name": "Python 3"
    },
    "accelerator": "GPU"
  },
  "cells": [
    {
      "cell_type": "code",
      "metadata": {
        "id": "7pryDxkKjuSa",
        "colab_type": "code",
        "colab": {
          "base_uri": "https://localhost:8080/",
          "height": 72
        },
        "outputId": "527e3755-f946-4cc3-fbd2-59bf9fba624f"
      },
      "source": [
        "import numpy as np\n",
        "import pandas as pd\n",
        "\n",
        "from statsmodels.tsa.api import VAR\n",
        "from statsmodels.tsa.stattools import adfuller\n",
        "from statsmodels.tools.eval_measures import rmse\n",
        "\n",
        "import warnings\n",
        "warnings.filterwarnings('ignore')\n",
        "\n",
        "df = pd.read_csv('M2SLMoneyStock.csv', index_col=0, parse_dates=True)\n",
        "df.index.freq = 'MS'\n",
        "\n",
        "sp = pd.read_csv('PCEPersonalSpending.csv', index_col=0, parse_dates=True)\n",
        "sp.index.freq = 'MS'"
      ],
      "execution_count": 1,
      "outputs": [
        {
          "output_type": "stream",
          "text": [
            "/usr/local/lib/python3.6/dist-packages/statsmodels/tools/_testing.py:19: FutureWarning: pandas.util.testing is deprecated. Use the functions in the public API at pandas.testing instead.\n",
            "  import pandas.util.testing as tm\n"
          ],
          "name": "stderr"
        }
      ]
    },
    {
      "cell_type": "code",
      "metadata": {
        "id": "iIRIFrfiL0kp",
        "colab_type": "code",
        "colab": {
          "base_uri": "https://localhost:8080/",
          "height": 237
        },
        "outputId": "7619188b-ab6c-40f8-fdc0-efcb702fecea"
      },
      "source": [
        "df.head()"
      ],
      "execution_count": 2,
      "outputs": [
        {
          "output_type": "execute_result",
          "data": {
            "text/html": [
              "<div>\n",
              "<style scoped>\n",
              "    .dataframe tbody tr th:only-of-type {\n",
              "        vertical-align: middle;\n",
              "    }\n",
              "\n",
              "    .dataframe tbody tr th {\n",
              "        vertical-align: top;\n",
              "    }\n",
              "\n",
              "    .dataframe thead th {\n",
              "        text-align: right;\n",
              "    }\n",
              "</style>\n",
              "<table border=\"1\" class=\"dataframe\">\n",
              "  <thead>\n",
              "    <tr style=\"text-align: right;\">\n",
              "      <th></th>\n",
              "      <th>Money</th>\n",
              "    </tr>\n",
              "    <tr>\n",
              "      <th>Date</th>\n",
              "      <th></th>\n",
              "    </tr>\n",
              "  </thead>\n",
              "  <tbody>\n",
              "    <tr>\n",
              "      <th>1995-01-01</th>\n",
              "      <td>3492.4</td>\n",
              "    </tr>\n",
              "    <tr>\n",
              "      <th>1995-02-01</th>\n",
              "      <td>3489.9</td>\n",
              "    </tr>\n",
              "    <tr>\n",
              "      <th>1995-03-01</th>\n",
              "      <td>3491.1</td>\n",
              "    </tr>\n",
              "    <tr>\n",
              "      <th>1995-04-01</th>\n",
              "      <td>3499.2</td>\n",
              "    </tr>\n",
              "    <tr>\n",
              "      <th>1995-05-01</th>\n",
              "      <td>3524.2</td>\n",
              "    </tr>\n",
              "  </tbody>\n",
              "</table>\n",
              "</div>"
            ],
            "text/plain": [
              "             Money\n",
              "Date              \n",
              "1995-01-01  3492.4\n",
              "1995-02-01  3489.9\n",
              "1995-03-01  3491.1\n",
              "1995-04-01  3499.2\n",
              "1995-05-01  3524.2"
            ]
          },
          "metadata": {
            "tags": []
          },
          "execution_count": 2
        }
      ]
    },
    {
      "cell_type": "code",
      "metadata": {
        "id": "Z2J5nYaMNSpd",
        "colab_type": "code",
        "colab": {
          "base_uri": "https://localhost:8080/",
          "height": 237
        },
        "outputId": "628a635f-3063-4f39-93aa-20a98dbcf465"
      },
      "source": [
        "sp.head()"
      ],
      "execution_count": 3,
      "outputs": [
        {
          "output_type": "execute_result",
          "data": {
            "text/html": [
              "<div>\n",
              "<style scoped>\n",
              "    .dataframe tbody tr th:only-of-type {\n",
              "        vertical-align: middle;\n",
              "    }\n",
              "\n",
              "    .dataframe tbody tr th {\n",
              "        vertical-align: top;\n",
              "    }\n",
              "\n",
              "    .dataframe thead th {\n",
              "        text-align: right;\n",
              "    }\n",
              "</style>\n",
              "<table border=\"1\" class=\"dataframe\">\n",
              "  <thead>\n",
              "    <tr style=\"text-align: right;\">\n",
              "      <th></th>\n",
              "      <th>Spending</th>\n",
              "    </tr>\n",
              "    <tr>\n",
              "      <th>Date</th>\n",
              "      <th></th>\n",
              "    </tr>\n",
              "  </thead>\n",
              "  <tbody>\n",
              "    <tr>\n",
              "      <th>1995-01-01</th>\n",
              "      <td>4851.2</td>\n",
              "    </tr>\n",
              "    <tr>\n",
              "      <th>1995-02-01</th>\n",
              "      <td>4850.8</td>\n",
              "    </tr>\n",
              "    <tr>\n",
              "      <th>1995-03-01</th>\n",
              "      <td>4885.4</td>\n",
              "    </tr>\n",
              "    <tr>\n",
              "      <th>1995-04-01</th>\n",
              "      <td>4890.2</td>\n",
              "    </tr>\n",
              "    <tr>\n",
              "      <th>1995-05-01</th>\n",
              "      <td>4933.1</td>\n",
              "    </tr>\n",
              "  </tbody>\n",
              "</table>\n",
              "</div>"
            ],
            "text/plain": [
              "            Spending\n",
              "Date                \n",
              "1995-01-01    4851.2\n",
              "1995-02-01    4850.8\n",
              "1995-03-01    4885.4\n",
              "1995-04-01    4890.2\n",
              "1995-05-01    4933.1"
            ]
          },
          "metadata": {
            "tags": []
          },
          "execution_count": 3
        }
      ]
    },
    {
      "cell_type": "code",
      "metadata": {
        "id": "y7jL33umNTeY",
        "colab_type": "code",
        "colab": {}
      },
      "source": [
        "df = df.join(sp)"
      ],
      "execution_count": 4,
      "outputs": []
    },
    {
      "cell_type": "code",
      "metadata": {
        "id": "ME3SKT82NYHf",
        "colab_type": "code",
        "colab": {
          "base_uri": "https://localhost:8080/",
          "height": 237
        },
        "outputId": "21e621e1-a7ed-494a-96ca-f71170e2067a"
      },
      "source": [
        "df.head()"
      ],
      "execution_count": 5,
      "outputs": [
        {
          "output_type": "execute_result",
          "data": {
            "text/html": [
              "<div>\n",
              "<style scoped>\n",
              "    .dataframe tbody tr th:only-of-type {\n",
              "        vertical-align: middle;\n",
              "    }\n",
              "\n",
              "    .dataframe tbody tr th {\n",
              "        vertical-align: top;\n",
              "    }\n",
              "\n",
              "    .dataframe thead th {\n",
              "        text-align: right;\n",
              "    }\n",
              "</style>\n",
              "<table border=\"1\" class=\"dataframe\">\n",
              "  <thead>\n",
              "    <tr style=\"text-align: right;\">\n",
              "      <th></th>\n",
              "      <th>Money</th>\n",
              "      <th>Spending</th>\n",
              "    </tr>\n",
              "    <tr>\n",
              "      <th>Date</th>\n",
              "      <th></th>\n",
              "      <th></th>\n",
              "    </tr>\n",
              "  </thead>\n",
              "  <tbody>\n",
              "    <tr>\n",
              "      <th>1995-01-01</th>\n",
              "      <td>3492.4</td>\n",
              "      <td>4851.2</td>\n",
              "    </tr>\n",
              "    <tr>\n",
              "      <th>1995-02-01</th>\n",
              "      <td>3489.9</td>\n",
              "      <td>4850.8</td>\n",
              "    </tr>\n",
              "    <tr>\n",
              "      <th>1995-03-01</th>\n",
              "      <td>3491.1</td>\n",
              "      <td>4885.4</td>\n",
              "    </tr>\n",
              "    <tr>\n",
              "      <th>1995-04-01</th>\n",
              "      <td>3499.2</td>\n",
              "      <td>4890.2</td>\n",
              "    </tr>\n",
              "    <tr>\n",
              "      <th>1995-05-01</th>\n",
              "      <td>3524.2</td>\n",
              "      <td>4933.1</td>\n",
              "    </tr>\n",
              "  </tbody>\n",
              "</table>\n",
              "</div>"
            ],
            "text/plain": [
              "             Money  Spending\n",
              "Date                        \n",
              "1995-01-01  3492.4    4851.2\n",
              "1995-02-01  3489.9    4850.8\n",
              "1995-03-01  3491.1    4885.4\n",
              "1995-04-01  3499.2    4890.2\n",
              "1995-05-01  3524.2    4933.1"
            ]
          },
          "metadata": {
            "tags": []
          },
          "execution_count": 5
        }
      ]
    },
    {
      "cell_type": "code",
      "metadata": {
        "id": "d7uEJ8PmNZdj",
        "colab_type": "code",
        "colab": {}
      },
      "source": [
        "df.dropna(inplace=True)"
      ],
      "execution_count": 6,
      "outputs": []
    },
    {
      "cell_type": "code",
      "metadata": {
        "id": "ma1tQQZsNg-j",
        "colab_type": "code",
        "colab": {
          "base_uri": "https://localhost:8080/",
          "height": 333
        },
        "outputId": "15b9f384-649a-4e38-fae9-1b57c8f4fd0a"
      },
      "source": [
        "df.plot(figsize=(12,5))"
      ],
      "execution_count": 7,
      "outputs": [
        {
          "output_type": "execute_result",
          "data": {
            "text/plain": [
              "<matplotlib.axes._subplots.AxesSubplot at 0x7f4610ba1320>"
            ]
          },
          "metadata": {
            "tags": []
          },
          "execution_count": 7
        },
        {
          "output_type": "display_data",
          "data": {
            "image/png": "[encoded data removed]",
            "text/plain": [
              "<Figure size 864x360 with 1 Axes>"
            ]
          },
          "metadata": {
            "tags": [],
            "needs_background": "light"
          }
        }
      ]
    },
    {
      "cell_type": "code",
      "metadata": {
        "id": "E2wbh--MNpW5",
        "colab_type": "code",
        "colab": {}
      },
      "source": [
        "def adf_test(series, title=''):\n",
        "    print(f'Augmented Dickey-Fuller test: {title}')\n",
        "    result = adfuller(series.dropna(), autolag='AIC')\n",
        "\n",
        "    labels = ['ADF Test Statistics', 'p-value', 'no. og lags used', 'no. of observations']\n",
        "    out = pd.Series(result[0:4], index=labels)\n",
        "\n",
        "    for key, val in result[4].items():\n",
        "        out[f'critical values ({key})'] = val\n",
        "\n",
        "    print(out.to_string())\n",
        "\n",
        "    if result[1] <= 0.05:\n",
        "        print('Strong evidence against the null hypopthesis')\n",
        "        print('Reject the null hypothesis')\n",
        "        print('Data has no unit root and is stationary')\n",
        "    else:\n",
        "        print('Weak evidence against the null hypothesis')\n",
        "        print('Fail to reject the null hypothesis')\n",
        "        print('Data has a unit root and is non-stationary')"
      ],
      "execution_count": 8,
      "outputs": []
    },
    {
      "cell_type": "code",
      "metadata": {
        "id": "qa1wCaCDN-38",
        "colab_type": "code",
        "colab": {
          "base_uri": "https://localhost:8080/",
          "height": 208
        },
        "outputId": "cb77ece9-dd50-4e80-9d2d-b83d3dedb19c"
      },
      "source": [
        "adf_test(df['Money'])"
      ],
      "execution_count": 9,
      "outputs": [
        {
          "output_type": "stream",
          "text": [
            "Augmented Dickey-Fuller test: \n",
            "ADF Test Statistics        4.239022\n",
            "p-value                    1.000000\n",
            "no. og lags used           4.000000\n",
            "no. of observations      247.000000\n",
            "critical values (1%)      -3.457105\n",
            "critical values (5%)      -2.873314\n",
            "critical values (10%)     -2.573044\n",
            "Weak evidence against the null hypothesis\n",
            "Fail to reject the null hypothesis\n",
            "Data has a unit root and is non-stationary\n"
          ],
          "name": "stdout"
        }
      ]
    },
    {
      "cell_type": "code",
      "metadata": {
        "id": "OS8bRhQhOCg-",
        "colab_type": "code",
        "colab": {
          "base_uri": "https://localhost:8080/",
          "height": 208
        },
        "outputId": "6be72f58-38b7-4b04-d8cd-159357a6fb9b"
      },
      "source": [
        "adf_test(df['Spending'])"
      ],
      "execution_count": 10,
      "outputs": [
        {
          "output_type": "stream",
          "text": [
            "Augmented Dickey-Fuller test: \n",
            "ADF Test Statistics        0.149796\n",
            "p-value                    0.969301\n",
            "no. og lags used           3.000000\n",
            "no. of observations      248.000000\n",
            "critical values (1%)      -3.456996\n",
            "critical values (5%)      -2.873266\n",
            "critical values (10%)     -2.573019\n",
            "Weak evidence against the null hypothesis\n",
            "Fail to reject the null hypothesis\n",
            "Data has a unit root and is non-stationary\n"
          ],
          "name": "stdout"
        }
      ]
    },
    {
      "cell_type": "code",
      "metadata": {
        "id": "lTlsucdKOFHC",
        "colab_type": "code",
        "colab": {}
      },
      "source": [
        "df_transformed = df.diff()"
      ],
      "execution_count": 11,
      "outputs": []
    },
    {
      "cell_type": "code",
      "metadata": {
        "id": "u-MFfz1AOO3n",
        "colab_type": "code",
        "colab": {
          "base_uri": "https://localhost:8080/",
          "height": 208
        },
        "outputId": "714d0f63-e147-4f73-a3dd-dd25d16f412a"
      },
      "source": [
        "adf_test(df_transformed['Money'])"
      ],
      "execution_count": 12,
      "outputs": [
        {
          "output_type": "stream",
          "text": [
            "Augmented Dickey-Fuller test: \n",
            "ADF Test Statistics       -2.057404\n",
            "p-value                    0.261984\n",
            "no. og lags used          15.000000\n",
            "no. of observations      235.000000\n",
            "critical values (1%)      -3.458487\n",
            "critical values (5%)      -2.873919\n",
            "critical values (10%)     -2.573367\n",
            "Weak evidence against the null hypothesis\n",
            "Fail to reject the null hypothesis\n",
            "Data has a unit root and is non-stationary\n"
          ],
          "name": "stdout"
        }
      ]
    },
    {
      "cell_type": "code",
      "metadata": {
        "id": "Pg798uqwOZoJ",
        "colab_type": "code",
        "colab": {
          "base_uri": "https://localhost:8080/",
          "height": 208
        },
        "outputId": "d35604d4-ca23-45c9-da54-9af36609db60"
      },
      "source": [
        "adf_test(df_transformed['Spending'])"
      ],
      "execution_count": 13,
      "outputs": [
        {
          "output_type": "stream",
          "text": [
            "Augmented Dickey-Fuller test: \n",
            "ADF Test Statistics     -7.226974e+00\n",
            "p-value                  2.041027e-10\n",
            "no. og lags used         2.000000e+00\n",
            "no. of observations      2.480000e+02\n",
            "critical values (1%)    -3.456996e+00\n",
            "critical values (5%)    -2.873266e+00\n",
            "critical values (10%)   -2.573019e+00\n",
            "Strong evidence against the null hypopthesis\n",
            "Reject the null hypothesis\n",
            "Data has no unit root and is stationary\n"
          ],
          "name": "stdout"
        }
      ]
    },
    {
      "cell_type": "code",
      "metadata": {
        "id": "euAVuG99OeyB",
        "colab_type": "code",
        "colab": {}
      },
      "source": [
        "df_transformed = df_transformed.diff().dropna()"
      ],
      "execution_count": 14,
      "outputs": []
    },
    {
      "cell_type": "code",
      "metadata": {
        "id": "HNyYt0YUPBX1",
        "colab_type": "code",
        "colab": {
          "base_uri": "https://localhost:8080/",
          "height": 208
        },
        "outputId": "ec909f4f-7a1d-4c60-f016-bd1084ddbf2d"
      },
      "source": [
        "adf_test(df_transformed['Money'])"
      ],
      "execution_count": 15,
      "outputs": [
        {
          "output_type": "stream",
          "text": [
            "Augmented Dickey-Fuller test: \n",
            "ADF Test Statistics     -7.077471e+00\n",
            "p-value                  4.760675e-10\n",
            "no. og lags used         1.400000e+01\n",
            "no. of observations      2.350000e+02\n",
            "critical values (1%)    -3.458487e+00\n",
            "critical values (5%)    -2.873919e+00\n",
            "critical values (10%)   -2.573367e+00\n",
            "Strong evidence against the null hypopthesis\n",
            "Reject the null hypothesis\n",
            "Data has no unit root and is stationary\n"
          ],
          "name": "stdout"
        }
      ]
    },
    {
      "cell_type": "code",
      "metadata": {
        "id": "nnwAtJI7PCwd",
        "colab_type": "code",
        "colab": {
          "base_uri": "https://localhost:8080/",
          "height": 208
        },
        "outputId": "d9620aea-0d40-46c2-face-d1ed795271c6"
      },
      "source": [
        "adf_test(df_transformed['Spending'])"
      ],
      "execution_count": 16,
      "outputs": [
        {
          "output_type": "stream",
          "text": [
            "Augmented Dickey-Fuller test: \n",
            "ADF Test Statistics     -8.760145e+00\n",
            "p-value                  2.687900e-14\n",
            "no. og lags used         8.000000e+00\n",
            "no. of observations      2.410000e+02\n",
            "critical values (1%)    -3.457779e+00\n",
            "critical values (5%)    -2.873609e+00\n",
            "critical values (10%)   -2.573202e+00\n",
            "Strong evidence against the null hypopthesis\n",
            "Reject the null hypothesis\n",
            "Data has no unit root and is stationary\n"
          ],
          "name": "stdout"
        }
      ]
    },
    {
      "cell_type": "code",
      "metadata": {
        "id": "PMC_MFy6PTPk",
        "colab_type": "code",
        "colab": {}
      },
      "source": [
        "nobs = 12"
      ],
      "execution_count": 17,
      "outputs": []
    },
    {
      "cell_type": "code",
      "metadata": {
        "id": "2FVO9VtIWVUl",
        "colab_type": "code",
        "colab": {}
      },
      "source": [
        "train = df_transformed[:-nobs]\n",
        "test = df_transformed[-nobs:]"
      ],
      "execution_count": 18,
      "outputs": []
    },
    {
      "cell_type": "code",
      "metadata": {
        "id": "swaZOA0sWeat",
        "colab_type": "code",
        "colab": {
          "base_uri": "https://localhost:8080/",
          "height": 503
        },
        "outputId": "bcd509a1-425d-44de-f057-fbac71b57d5b"
      },
      "source": [
        "model = VAR(train)\n",
        "\n",
        "for p in [1,2,3,4,5,6,7]:\n",
        "    results = model.fit(p)\n",
        "    print(f'ORDER {p}')\n",
        "    print(f'AIC: {results.aic}')\n",
        "    print('\\n')"
      ],
      "execution_count": 19,
      "outputs": [
        {
          "output_type": "stream",
          "text": [
            "ORDER 1\n",
            "AIC: 14.178610495220896\n",
            "\n",
            "\n",
            "ORDER 2\n",
            "AIC: 13.955189367163705\n",
            "\n",
            "\n",
            "ORDER 3\n",
            "AIC: 13.849518291541038\n",
            "\n",
            "\n",
            "ORDER 4\n",
            "AIC: 13.827950574458281\n",
            "\n",
            "\n",
            "ORDER 5\n",
            "AIC: 13.78730034460964\n",
            "\n",
            "\n",
            "ORDER 6\n",
            "AIC: 13.799076756885809\n",
            "\n",
            "\n",
            "ORDER 7\n",
            "AIC: 13.797638727913972\n",
            "\n",
            "\n"
          ],
          "name": "stdout"
        }
      ]
    },
    {
      "cell_type": "code",
      "metadata": {
        "id": "cfOJolT_XRMI",
        "colab_type": "code",
        "colab": {}
      },
      "source": [
        "results = model.fit(5)"
      ],
      "execution_count": 20,
      "outputs": []
    },
    {
      "cell_type": "code",
      "metadata": {
        "id": "Zog8lb6VXsgH",
        "colab_type": "code",
        "colab": {
          "base_uri": "https://localhost:8080/",
          "height": 903
        },
        "outputId": "ac157f85-4b44-487f-f724-2a80c4ded5b3"
      },
      "source": [
        "results.summary()"
      ],
      "execution_count": 21,
      "outputs": [
        {
          "output_type": "execute_result",
          "data": {
            "text/plain": [
              "  Summary of Regression Results   \n",
              "==================================\n",
              "Model:                         VAR\n",
              "Method:                        OLS\n",
              "Date:           Sun, 16, Aug, 2020\n",
              "Time:                     13:53:40\n",
              "--------------------------------------------------------------------\n",
              "No. of Equations:         2.00000    BIC:                    14.1131\n",
              "Nobs:                     233.000    HQIC:                   13.9187\n",
              "Log likelihood:          -2245.45    FPE:                    972321.\n",
              "AIC:                      13.7873    Det(Omega_mle):         886628.\n",
              "--------------------------------------------------------------------\n",
              "Results for equation Money\n",
              "==============================================================================\n",
              "                 coefficient       std. error           t-stat            prob\n",
              "------------------------------------------------------------------------------\n",
              "const               0.516683         1.782238            0.290           0.772\n",
              "L1.Money           -0.646232         0.068177           -9.479           0.000\n",
              "L1.Spending        -0.107411         0.051388           -2.090           0.037\n",
              "L2.Money           -0.497482         0.077749           -6.399           0.000\n",
              "L2.Spending        -0.192202         0.068613           -2.801           0.005\n",
              "L3.Money           -0.234442         0.081004           -2.894           0.004\n",
              "L3.Spending        -0.178099         0.074288           -2.397           0.017\n",
              "L4.Money           -0.295531         0.075294           -3.925           0.000\n",
              "L4.Spending        -0.035564         0.069664           -0.511           0.610\n",
              "L5.Money           -0.162399         0.066700           -2.435           0.015\n",
              "L5.Spending        -0.058449         0.051357           -1.138           0.255\n",
              "==============================================================================\n",
              "\n",
              "Results for equation Spending\n",
              "==============================================================================\n",
              "                 coefficient       std. error           t-stat            prob\n",
              "------------------------------------------------------------------------------\n",
              "const               0.203469         2.355446            0.086           0.931\n",
              "L1.Money            0.188105         0.090104            2.088           0.037\n",
              "L1.Spending        -0.878970         0.067916          -12.942           0.000\n",
              "L2.Money            0.053017         0.102755            0.516           0.606\n",
              "L2.Spending        -0.625313         0.090681           -6.896           0.000\n",
              "L3.Money           -0.022172         0.107057           -0.207           0.836\n",
              "L3.Spending        -0.389041         0.098180           -3.963           0.000\n",
              "L4.Money           -0.170456         0.099510           -1.713           0.087\n",
              "L4.Spending        -0.245435         0.092069           -2.666           0.008\n",
              "L5.Money           -0.083165         0.088153           -0.943           0.345\n",
              "L5.Spending        -0.181699         0.067874           -2.677           0.007\n",
              "==============================================================================\n",
              "\n",
              "Correlation matrix of residuals\n",
              "               Money  Spending\n",
              "Money       1.000000 -0.267934\n",
              "Spending   -0.267934  1.000000\n",
              "\n"
            ]
          },
          "metadata": {
            "tags": []
          },
          "execution_count": 21
        }
      ]
    },
    {
      "cell_type": "code",
      "metadata": {
        "id": "12GyAuqXXtxf",
        "colab_type": "code",
        "colab": {}
      },
      "source": [
        "lagged_values = train.values[-5:]\n",
        "z = results.forecast(y=lagged_values, steps=12)"
      ],
      "execution_count": 22,
      "outputs": []
    },
    {
      "cell_type": "code",
      "metadata": {
        "id": "x3gPqnNIYtZx",
        "colab_type": "code",
        "colab": {}
      },
      "source": [
        "idx = pd.date_range('2015-01-01', periods=12, freq='MS')"
      ],
      "execution_count": 23,
      "outputs": []
    },
    {
      "cell_type": "code",
      "metadata": {
        "id": "C1zlF4dbY2t0",
        "colab_type": "code",
        "colab": {}
      },
      "source": [
        "df_forecast = pd.DataFrame(data=z, index=idx, columns=['Money_2D', 'Spending_2D'])"
      ],
      "execution_count": 24,
      "outputs": []
    },
    {
      "cell_type": "code",
      "metadata": {
        "id": "c49tDdSwZExI",
        "colab_type": "code",
        "colab": {
          "base_uri": "https://localhost:8080/",
          "height": 426
        },
        "outputId": "de573d29-c199-457a-aeb4-0b0944ef6f95"
      },
      "source": [
        "df_forecast"
      ],
      "execution_count": 25,
      "outputs": [
        {
          "output_type": "execute_result",
          "data": {
            "text/html": [
              "<div>\n",
              "<style scoped>\n",
              "    .dataframe tbody tr th:only-of-type {\n",
              "        vertical-align: middle;\n",
              "    }\n",
              "\n",
              "    .dataframe tbody tr th {\n",
              "        vertical-align: top;\n",
              "    }\n",
              "\n",
              "    .dataframe thead th {\n",
              "        text-align: right;\n",
              "    }\n",
              "</style>\n",
              "<table border=\"1\" class=\"dataframe\">\n",
              "  <thead>\n",
              "    <tr style=\"text-align: right;\">\n",
              "      <th></th>\n",
              "      <th>Money_2D</th>\n",
              "      <th>Spending_2D</th>\n",
              "    </tr>\n",
              "  </thead>\n",
              "  <tbody>\n",
              "    <tr>\n",
              "      <th>2015-01-01</th>\n",
              "      <td>-16.995276</td>\n",
              "      <td>36.149820</td>\n",
              "    </tr>\n",
              "    <tr>\n",
              "      <th>2015-02-01</th>\n",
              "      <td>-3.174038</td>\n",
              "      <td>-11.450298</td>\n",
              "    </tr>\n",
              "    <tr>\n",
              "      <th>2015-03-01</th>\n",
              "      <td>-0.377725</td>\n",
              "      <td>-6.684969</td>\n",
              "    </tr>\n",
              "    <tr>\n",
              "      <th>2015-04-01</th>\n",
              "      <td>-2.602233</td>\n",
              "      <td>5.479458</td>\n",
              "    </tr>\n",
              "    <tr>\n",
              "      <th>2015-05-01</th>\n",
              "      <td>4.228557</td>\n",
              "      <td>-2.443365</td>\n",
              "    </tr>\n",
              "    <tr>\n",
              "      <th>2015-06-01</th>\n",
              "      <td>1.559393</td>\n",
              "      <td>0.387639</td>\n",
              "    </tr>\n",
              "    <tr>\n",
              "      <th>2015-07-01</th>\n",
              "      <td>-0.998410</td>\n",
              "      <td>3.883680</td>\n",
              "    </tr>\n",
              "    <tr>\n",
              "      <th>2015-08-01</th>\n",
              "      <td>0.364510</td>\n",
              "      <td>-2.356101</td>\n",
              "    </tr>\n",
              "    <tr>\n",
              "      <th>2015-09-01</th>\n",
              "      <td>-1.210627</td>\n",
              "      <td>-1.224147</td>\n",
              "    </tr>\n",
              "    <tr>\n",
              "      <th>2015-10-01</th>\n",
              "      <td>0.225877</td>\n",
              "      <td>0.786927</td>\n",
              "    </tr>\n",
              "    <tr>\n",
              "      <th>2015-11-01</th>\n",
              "      <td>1.338939</td>\n",
              "      <td>0.180974</td>\n",
              "    </tr>\n",
              "    <tr>\n",
              "      <th>2015-12-01</th>\n",
              "      <td>-0.218585</td>\n",
              "      <td>0.212750</td>\n",
              "    </tr>\n",
              "  </tbody>\n",
              "</table>\n",
              "</div>"
            ],
            "text/plain": [
              "             Money_2D  Spending_2D\n",
              "2015-01-01 -16.995276    36.149820\n",
              "2015-02-01  -3.174038   -11.450298\n",
              "2015-03-01  -0.377725    -6.684969\n",
              "2015-04-01  -2.602233     5.479458\n",
              "2015-05-01   4.228557    -2.443365\n",
              "2015-06-01   1.559393     0.387639\n",
              "2015-07-01  -0.998410     3.883680\n",
              "2015-08-01   0.364510    -2.356101\n",
              "2015-09-01  -1.210627    -1.224147\n",
              "2015-10-01   0.225877     0.786927\n",
              "2015-11-01   1.338939     0.180974\n",
              "2015-12-01  -0.218585     0.212750"
            ]
          },
          "metadata": {
            "tags": []
          },
          "execution_count": 25
        }
      ]
    },
    {
      "cell_type": "code",
      "metadata": {
        "id": "SYLLLHwgZIAv",
        "colab_type": "code",
        "colab": {}
      },
      "source": [
        "df_forecast['Money1D'] = (df['Money'].iloc[-nobs-1]-df['Money'].iloc[-nobs-2]) + df_forecast['Money_2D'].cumsum()\n",
        "\n",
        "df_forecast['MoneyForecast'] = df['Money'].iloc[-nobs-1] + df_forecast['Money1D'].cumsum()"
      ],
      "execution_count": 26,
      "outputs": []
    },
    {
      "cell_type": "code",
      "metadata": {
        "id": "qFJ9R1HEZ6ub",
        "colab_type": "code",
        "colab": {}
      },
      "source": [
        "df_forecast['Spending1D'] = (df['Spending'].iloc[-nobs-1]-df['Spending'].iloc[-nobs-2]) + df_forecast['Spending_2D'].cumsum()\n",
        "\n",
        "df_forecast['SpendingForecast'] = df['Spending'].iloc[-nobs-1] + df_forecast['Spending1D'].cumsum()"
      ],
      "execution_count": 27,
      "outputs": []
    },
    {
      "cell_type": "code",
      "metadata": {
        "id": "8gM891BhaJs6",
        "colab_type": "code",
        "colab": {
          "base_uri": "https://localhost:8080/",
          "height": 226
        },
        "outputId": "74fd3e4d-56df-462f-8823-fd10ea599798"
      },
      "source": [
        "df_forecast.head()"
      ],
      "execution_count": 28,
      "outputs": [
        {
          "output_type": "execute_result",
          "data": {
            "text/html": [
              "<div>\n",
              "<style scoped>\n",
              "    .dataframe tbody tr th:only-of-type {\n",
              "        vertical-align: middle;\n",
              "    }\n",
              "\n",
              "    .dataframe tbody tr th {\n",
              "        vertical-align: top;\n",
              "    }\n",
              "\n",
              "    .dataframe thead th {\n",
              "        text-align: right;\n",
              "    }\n",
              "</style>\n",
              "<table border=\"1\" class=\"dataframe\">\n",
              "  <thead>\n",
              "    <tr style=\"text-align: right;\">\n",
              "      <th></th>\n",
              "      <th>Money_2D</th>\n",
              "      <th>Spending_2D</th>\n",
              "      <th>Money1D</th>\n",
              "      <th>MoneyForecast</th>\n",
              "      <th>Spending1D</th>\n",
              "      <th>SpendingForecast</th>\n",
              "    </tr>\n",
              "  </thead>\n",
              "  <tbody>\n",
              "    <tr>\n",
              "      <th>2015-01-01</th>\n",
              "      <td>-16.995276</td>\n",
              "      <td>36.149820</td>\n",
              "      <td>61.604724</td>\n",
              "      <td>11731.704724</td>\n",
              "      <td>46.749820</td>\n",
              "      <td>12108.749820</td>\n",
              "    </tr>\n",
              "    <tr>\n",
              "      <th>2015-02-01</th>\n",
              "      <td>-3.174038</td>\n",
              "      <td>-11.450298</td>\n",
              "      <td>58.430686</td>\n",
              "      <td>11790.135410</td>\n",
              "      <td>35.299522</td>\n",
              "      <td>12144.049342</td>\n",
              "    </tr>\n",
              "    <tr>\n",
              "      <th>2015-03-01</th>\n",
              "      <td>-0.377725</td>\n",
              "      <td>-6.684969</td>\n",
              "      <td>58.052961</td>\n",
              "      <td>11848.188371</td>\n",
              "      <td>28.614552</td>\n",
              "      <td>12172.663894</td>\n",
              "    </tr>\n",
              "    <tr>\n",
              "      <th>2015-04-01</th>\n",
              "      <td>-2.602233</td>\n",
              "      <td>5.479458</td>\n",
              "      <td>55.450728</td>\n",
              "      <td>11903.639099</td>\n",
              "      <td>34.094010</td>\n",
              "      <td>12206.757904</td>\n",
              "    </tr>\n",
              "    <tr>\n",
              "      <th>2015-05-01</th>\n",
              "      <td>4.228557</td>\n",
              "      <td>-2.443365</td>\n",
              "      <td>59.679285</td>\n",
              "      <td>11963.318384</td>\n",
              "      <td>31.650645</td>\n",
              "      <td>12238.408549</td>\n",
              "    </tr>\n",
              "  </tbody>\n",
              "</table>\n",
              "</div>"
            ],
            "text/plain": [
              "             Money_2D  Spending_2D  ...  Spending1D  SpendingForecast\n",
              "2015-01-01 -16.995276    36.149820  ...   46.749820      12108.749820\n",
              "2015-02-01  -3.174038   -11.450298  ...   35.299522      12144.049342\n",
              "2015-03-01  -0.377725    -6.684969  ...   28.614552      12172.663894\n",
              "2015-04-01  -2.602233     5.479458  ...   34.094010      12206.757904\n",
              "2015-05-01   4.228557    -2.443365  ...   31.650645      12238.408549\n",
              "\n",
              "[5 rows x 6 columns]"
            ]
          },
          "metadata": {
            "tags": []
          },
          "execution_count": 28
        }
      ]
    },
    {
      "cell_type": "code",
      "metadata": {
        "id": "P4eH1op2aRo7",
        "colab_type": "code",
        "colab": {}
      },
      "source": [
        "test_range = df[-nobs:]"
      ],
      "execution_count": 29,
      "outputs": []
    },
    {
      "cell_type": "code",
      "metadata": {
        "id": "lzeMvr1ShuZi",
        "colab_type": "code",
        "colab": {
          "base_uri": "https://localhost:8080/",
          "height": 341
        },
        "outputId": "6344b9c4-98a4-4321-84e5-dedbc74d253a"
      },
      "source": [
        "test_range.plot(figsize=(12,5))"
      ],
      "execution_count": 30,
      "outputs": [
        {
          "output_type": "execute_result",
          "data": {
            "text/plain": [
              "<matplotlib.axes._subplots.AxesSubplot at 0x7f4610a37780>"
            ]
          },
          "metadata": {
            "tags": []
          },
          "execution_count": 30
        },
        {
          "output_type": "display_data",
          "data": {
            "image/png": "[encoded data removed]",
            "text/plain": [
              "<Figure size 864x360 with 1 Axes>"
            ]
          },
          "metadata": {
            "tags": [],
            "needs_background": "light"
          }
        }
      ]
    },
    {
      "cell_type": "code",
      "metadata": {
        "id": "BJvDCwafh0Ua",
        "colab_type": "code",
        "colab": {
          "base_uri": "https://localhost:8080/",
          "height": 327
        },
        "outputId": "5f087b66-60c0-4afb-bae2-086b5cea8833"
      },
      "source": [
        "df_forecast[['MoneyForecast', 'SpendingForecast']].plot(figsize=(12,5))"
      ],
      "execution_count": 31,
      "outputs": [
        {
          "output_type": "execute_result",
          "data": {
            "text/plain": [
              "<matplotlib.axes._subplots.AxesSubplot at 0x7f460f2a8860>"
            ]
          },
          "metadata": {
            "tags": []
          },
          "execution_count": 31
        },
        {
          "output_type": "display_data",
          "data": {
            "image/png": "[encoded data removed]",
            "text/plain": [
              "<Figure size 864x360 with 1 Axes>"
            ]
          },
          "metadata": {
            "tags": [],
            "needs_background": "light"
          }
        }
      ]
    },
    {
      "cell_type": "code",
      "metadata": {
        "id": "873x4nT_h7Ho",
        "colab_type": "code",
        "colab": {
          "base_uri": "https://localhost:8080/",
          "height": 339
        },
        "outputId": "052b9f0b-fdea-42b8-85f7-b0615923f9aa"
      },
      "source": [
        "test_range['Money'].plot(legend=True, figsize=(12,5))\n",
        "df_forecast['MoneyForecast'].plot(legend=True)"
      ],
      "execution_count": 32,
      "outputs": [
        {
          "output_type": "execute_result",
          "data": {
            "text/plain": [
              "<matplotlib.axes._subplots.AxesSubplot at 0x7f460f21d588>"
            ]
          },
          "metadata": {
            "tags": []
          },
          "execution_count": 32
        },
        {
          "output_type": "display_data",
          "data": {
            "image/png": "[encoded data removed]",
            "text/plain": [
              "<Figure size 864x360 with 1 Axes>"
            ]
          },
          "metadata": {
            "tags": [],
            "needs_background": "light"
          }
        }
      ]
    },
    {
      "cell_type": "code",
      "metadata": {
        "id": "aQOsiPlViQzl",
        "colab_type": "code",
        "colab": {
          "base_uri": "https://localhost:8080/",
          "height": 339
        },
        "outputId": "82fc0675-c231-4c2a-f645-7eca60eb8cf1"
      },
      "source": [
        "test_range['Spending'].plot(legend=True, figsize=(12,5))\n",
        "df_forecast['SpendingForecast'].plot(legend=True)"
      ],
      "execution_count": 33,
      "outputs": [
        {
          "output_type": "execute_result",
          "data": {
            "text/plain": [
              "<matplotlib.axes._subplots.AxesSubplot at 0x7f460f30b2b0>"
            ]
          },
          "metadata": {
            "tags": []
          },
          "execution_count": 33
        },
        {
          "output_type": "display_data",
          "data": {
            "image/png": "[encoded data removed]",
            "text/plain": [
              "<Figure size 864x360 with 1 Axes>"
            ]
          },
          "metadata": {
            "tags": [],
            "needs_background": "light"
          }
        }
      ]
    },
    {
      "cell_type": "code",
      "metadata": {
        "id": "fMkglwTNivWF",
        "colab_type": "code",
        "colab": {
          "base_uri": "https://localhost:8080/",
          "height": 34
        },
        "outputId": "86e090e7-072c-4c4a-d374-e12d847c97be"
      },
      "source": [
        "rmse(test_range['Money'], df_forecast['MoneyForecast'])"
      ],
      "execution_count": 34,
      "outputs": [
        {
          "output_type": "execute_result",
          "data": {
            "text/plain": [
              "43.71049653558893"
            ]
          },
          "metadata": {
            "tags": []
          },
          "execution_count": 34
        }
      ]
    },
    {
      "cell_type": "code",
      "metadata": {
        "id": "lsqc4uwtjKQK",
        "colab_type": "code",
        "colab": {
          "base_uri": "https://localhost:8080/",
          "height": 34
        },
        "outputId": "5cd2c30e-6512-4cb4-a182-4d864c10f0f3"
      },
      "source": [
        "test_range['Money'].mean()"
      ],
      "execution_count": 35,
      "outputs": [
        {
          "output_type": "execute_result",
          "data": {
            "text/plain": [
              "12034.008333333333"
            ]
          },
          "metadata": {
            "tags": []
          },
          "execution_count": 35
        }
      ]
    },
    {
      "cell_type": "code",
      "metadata": {
        "id": "p_9lH2_wjP1s",
        "colab_type": "code",
        "colab": {
          "base_uri": "https://localhost:8080/",
          "height": 34
        },
        "outputId": "c5026787-4e17-439d-8565-6c06d1968a55"
      },
      "source": [
        "rmse(test_range['Spending'], df_forecast['SpendingForecast'])"
      ],
      "execution_count": 36,
      "outputs": [
        {
          "output_type": "execute_result",
          "data": {
            "text/plain": [
              "37.001175169408285"
            ]
          },
          "metadata": {
            "tags": []
          },
          "execution_count": 36
        }
      ]
    },
    {
      "cell_type": "code",
      "metadata": {
        "id": "_XX0v7SFjVNJ",
        "colab_type": "code",
        "colab": {
          "base_uri": "https://localhost:8080/",
          "height": 34
        },
        "outputId": "164e2d5c-e5f4-4e6e-fbd6-82d9796eeb85"
      },
      "source": [
        "test_range['Spending'].mean()"
      ],
      "execution_count": 37,
      "outputs": [
        {
          "output_type": "execute_result",
          "data": {
            "text/plain": [
              "12294.533333333333"
            ]
          },
          "metadata": {
            "tags": []
          },
          "execution_count": 37
        }
      ]
    },
    {
      "cell_type": "code",
      "metadata": {
        "id": "O7xsuHWFjZF_",
        "colab_type": "code",
        "colab": {}
      },
      "source": [
        ""
      ],
      "execution_count": null,
      "outputs": []
    }
  ]
}