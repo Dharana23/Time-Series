{
  "nbformat": 4,
  "nbformat_minor": 0,
  "metadata": {
    "colab": {
      "name": "Vector ARMA.ipynb",
      "provenance": []
    },
    "kernelspec": {
      "name": "python3",
      "display_name": "Python 3"
    },
    "accelerator": "GPU"
  },
  "cells": [
    {
      "cell_type": "code",
      "metadata": {
        "id": "7pryDxkKjuSa",
        "colab_type": "code",
        "colab": {}
      },
      "source": [
        "import numpy as np\n",
        "import pandas as pd\n",
        "\n",
        "from statsmodels.tsa.statespace.varmax import VARMAX, VARMAXResults\n",
        "from statsmodels.tsa.stattools import adfuller\n",
        "from pmdarima import auto_arima\n",
        "from statsmodels.tools.eval_measures import rmse\n",
        "\n",
        "import warnings\n",
        "warnings.filterwarnings('ignore')\n",
        "\n",
        "df = pd.read_csv('M2SLMoneyStock.csv', index_col=0, parse_dates=True)\n",
        "df.index.freq = 'MS'\n",
        "\n",
        "sp = pd.read_csv('PCEPersonalSpending.csv', index_col=0, parse_dates=True)\n",
        "sp.index.freq = 'MS'"
      ],
      "execution_count": 1,
      "outputs": []
    },
    {
      "cell_type": "code",
      "metadata": {
        "id": "iIRIFrfiL0kp",
        "colab_type": "code",
        "colab": {
          "base_uri": "https://localhost:8080/",
          "height": 237
        },
        "outputId": "a2662913-817d-4bd2-b098-315713c0a5b2"
      },
      "source": [
        "df.head()"
      ],
      "execution_count": 2,
      "outputs": [
        {
          "output_type": "execute_result",
          "data": {
            "text/html": [
              "<div>\n",
              "<style scoped>\n",
              "    .dataframe tbody tr th:only-of-type {\n",
              "        vertical-align: middle;\n",
              "    }\n",
              "\n",
              "    .dataframe tbody tr th {\n",
              "        vertical-align: top;\n",
              "    }\n",
              "\n",
              "    .dataframe thead th {\n",
              "        text-align: right;\n",
              "    }\n",
              "</style>\n",
              "<table border=\"1\" class=\"dataframe\">\n",
              "  <thead>\n",
              "    <tr style=\"text-align: right;\">\n",
              "      <th></th>\n",
              "      <th>Money</th>\n",
              "    </tr>\n",
              "    <tr>\n",
              "      <th>Date</th>\n",
              "      <th></th>\n",
              "    </tr>\n",
              "  </thead>\n",
              "  <tbody>\n",
              "    <tr>\n",
              "      <th>1995-01-01</th>\n",
              "      <td>3492.4</td>\n",
              "    </tr>\n",
              "    <tr>\n",
              "      <th>1995-02-01</th>\n",
              "      <td>3489.9</td>\n",
              "    </tr>\n",
              "    <tr>\n",
              "      <th>1995-03-01</th>\n",
              "      <td>3491.1</td>\n",
              "    </tr>\n",
              "    <tr>\n",
              "      <th>1995-04-01</th>\n",
              "      <td>3499.2</td>\n",
              "    </tr>\n",
              "    <tr>\n",
              "      <th>1995-05-01</th>\n",
              "      <td>3524.2</td>\n",
              "    </tr>\n",
              "  </tbody>\n",
              "</table>\n",
              "</div>"
            ],
            "text/plain": [
              "             Money\n",
              "Date              \n",
              "1995-01-01  3492.4\n",
              "1995-02-01  3489.9\n",
              "1995-03-01  3491.1\n",
              "1995-04-01  3499.2\n",
              "1995-05-01  3524.2"
            ]
          },
          "metadata": {
            "tags": []
          },
          "execution_count": 2
        }
      ]
    },
    {
      "cell_type": "code",
      "metadata": {
        "id": "Z2J5nYaMNSpd",
        "colab_type": "code",
        "colab": {
          "base_uri": "https://localhost:8080/",
          "height": 237
        },
        "outputId": "23fee198-0f3e-4674-9cf4-993f39db787c"
      },
      "source": [
        "sp.head()"
      ],
      "execution_count": 3,
      "outputs": [
        {
          "output_type": "execute_result",
          "data": {
            "text/html": [
              "<div>\n",
              "<style scoped>\n",
              "    .dataframe tbody tr th:only-of-type {\n",
              "        vertical-align: middle;\n",
              "    }\n",
              "\n",
              "    .dataframe tbody tr th {\n",
              "        vertical-align: top;\n",
              "    }\n",
              "\n",
              "    .dataframe thead th {\n",
              "        text-align: right;\n",
              "    }\n",
              "</style>\n",
              "<table border=\"1\" class=\"dataframe\">\n",
              "  <thead>\n",
              "    <tr style=\"text-align: right;\">\n",
              "      <th></th>\n",
              "      <th>Spending</th>\n",
              "    </tr>\n",
              "    <tr>\n",
              "      <th>Date</th>\n",
              "      <th></th>\n",
              "    </tr>\n",
              "  </thead>\n",
              "  <tbody>\n",
              "    <tr>\n",
              "      <th>1995-01-01</th>\n",
              "      <td>4851.2</td>\n",
              "    </tr>\n",
              "    <tr>\n",
              "      <th>1995-02-01</th>\n",
              "      <td>4850.8</td>\n",
              "    </tr>\n",
              "    <tr>\n",
              "      <th>1995-03-01</th>\n",
              "      <td>4885.4</td>\n",
              "    </tr>\n",
              "    <tr>\n",
              "      <th>1995-04-01</th>\n",
              "      <td>4890.2</td>\n",
              "    </tr>\n",
              "    <tr>\n",
              "      <th>1995-05-01</th>\n",
              "      <td>4933.1</td>\n",
              "    </tr>\n",
              "  </tbody>\n",
              "</table>\n",
              "</div>"
            ],
            "text/plain": [
              "            Spending\n",
              "Date                \n",
              "1995-01-01    4851.2\n",
              "1995-02-01    4850.8\n",
              "1995-03-01    4885.4\n",
              "1995-04-01    4890.2\n",
              "1995-05-01    4933.1"
            ]
          },
          "metadata": {
            "tags": []
          },
          "execution_count": 3
        }
      ]
    },
    {
      "cell_type": "code",
      "metadata": {
        "id": "y7jL33umNTeY",
        "colab_type": "code",
        "colab": {}
      },
      "source": [
        "df = df.join(sp)"
      ],
      "execution_count": 4,
      "outputs": []
    },
    {
      "cell_type": "code",
      "metadata": {
        "id": "ME3SKT82NYHf",
        "colab_type": "code",
        "colab": {
          "base_uri": "https://localhost:8080/",
          "height": 237
        },
        "outputId": "50c766b4-98a9-412e-c7b9-85c2ace50dc2"
      },
      "source": [
        "df.head()"
      ],
      "execution_count": 5,
      "outputs": [
        {
          "output_type": "execute_result",
          "data": {
            "text/html": [
              "<div>\n",
              "<style scoped>\n",
              "    .dataframe tbody tr th:only-of-type {\n",
              "        vertical-align: middle;\n",
              "    }\n",
              "\n",
              "    .dataframe tbody tr th {\n",
              "        vertical-align: top;\n",
              "    }\n",
              "\n",
              "    .dataframe thead th {\n",
              "        text-align: right;\n",
              "    }\n",
              "</style>\n",
              "<table border=\"1\" class=\"dataframe\">\n",
              "  <thead>\n",
              "    <tr style=\"text-align: right;\">\n",
              "      <th></th>\n",
              "      <th>Money</th>\n",
              "      <th>Spending</th>\n",
              "    </tr>\n",
              "    <tr>\n",
              "      <th>Date</th>\n",
              "      <th></th>\n",
              "      <th></th>\n",
              "    </tr>\n",
              "  </thead>\n",
              "  <tbody>\n",
              "    <tr>\n",
              "      <th>1995-01-01</th>\n",
              "      <td>3492.4</td>\n",
              "      <td>4851.2</td>\n",
              "    </tr>\n",
              "    <tr>\n",
              "      <th>1995-02-01</th>\n",
              "      <td>3489.9</td>\n",
              "      <td>4850.8</td>\n",
              "    </tr>\n",
              "    <tr>\n",
              "      <th>1995-03-01</th>\n",
              "      <td>3491.1</td>\n",
              "      <td>4885.4</td>\n",
              "    </tr>\n",
              "    <tr>\n",
              "      <th>1995-04-01</th>\n",
              "      <td>3499.2</td>\n",
              "      <td>4890.2</td>\n",
              "    </tr>\n",
              "    <tr>\n",
              "      <th>1995-05-01</th>\n",
              "      <td>3524.2</td>\n",
              "      <td>4933.1</td>\n",
              "    </tr>\n",
              "  </tbody>\n",
              "</table>\n",
              "</div>"
            ],
            "text/plain": [
              "             Money  Spending\n",
              "Date                        \n",
              "1995-01-01  3492.4    4851.2\n",
              "1995-02-01  3489.9    4850.8\n",
              "1995-03-01  3491.1    4885.4\n",
              "1995-04-01  3499.2    4890.2\n",
              "1995-05-01  3524.2    4933.1"
            ]
          },
          "metadata": {
            "tags": []
          },
          "execution_count": 5
        }
      ]
    },
    {
      "cell_type": "code",
      "metadata": {
        "id": "d7uEJ8PmNZdj",
        "colab_type": "code",
        "colab": {}
      },
      "source": [
        "df.dropna(inplace=True)"
      ],
      "execution_count": 6,
      "outputs": []
    },
    {
      "cell_type": "code",
      "metadata": {
        "id": "ma1tQQZsNg-j",
        "colab_type": "code",
        "colab": {
          "base_uri": "https://localhost:8080/",
          "height": 333
        },
        "outputId": "6b08820f-9b54-44bf-ad23-a5197729baa5"
      },
      "source": [
        "df.plot(figsize=(12,5))"
      ],
      "execution_count": 7,
      "outputs": [
        {
          "output_type": "execute_result",
          "data": {
            "text/plain": [
              "<matplotlib.axes._subplots.AxesSubplot at 0x7f70f2ee2c88>"
            ]
          },
          "metadata": {
            "tags": []
          },
          "execution_count": 7
        },
        {
          "output_type": "display_data",
          "data": {
            "image/png": "[encoded data removed]",
            "text/plain": [
              "<Figure size 864x360 with 1 Axes>"
            ]
          },
          "metadata": {
            "tags": [],
            "needs_background": "light"
          }
        }
      ]
    },
    {
      "cell_type": "code",
      "metadata": {
        "id": "E2wbh--MNpW5",
        "colab_type": "code",
        "colab": {}
      },
      "source": [
        "def adf_test(series, title=''):\n",
        "    print(f'Augmented Dickey-Fuller test: {title}')\n",
        "    result = adfuller(series.dropna(), autolag='AIC')\n",
        "\n",
        "    labels = ['ADF Test Statistics', 'p-value', 'no. og lags used', 'no. of observations']\n",
        "    out = pd.Series(result[0:4], index=labels)\n",
        "\n",
        "    for key, val in result[4].items():\n",
        "        out[f'critical values ({key})'] = val\n",
        "\n",
        "    print(out.to_string())\n",
        "\n",
        "    if result[1] <= 0.05:\n",
        "        print('Strong evidence against the null hypopthesis')\n",
        "        print('Reject the null hypothesis')\n",
        "        print('Data has no unit root and is stationary')\n",
        "    else:\n",
        "        print('Weak evidence against the null hypothesis')\n",
        "        print('Fail to reject the null hypothesis')\n",
        "        print('Data has a unit root and is non-stationary')"
      ],
      "execution_count": 8,
      "outputs": []
    },
    {
      "cell_type": "code",
      "metadata": {
        "id": "O7xsuHWFjZF_",
        "colab_type": "code",
        "colab": {
          "base_uri": "https://localhost:8080/",
          "height": 86
        },
        "outputId": "7638b554-d00f-4c00-c40f-697abcab3428"
      },
      "source": [
        "auto_arima(df['Money'], maxiter=1000)"
      ],
      "execution_count": 9,
      "outputs": [
        {
          "output_type": "execute_result",
          "data": {
            "text/plain": [
              "ARIMA(maxiter=1000, method='lbfgs', order=(1, 2, 1), out_of_sample_size=0,\n",
              "      scoring='mse', scoring_args={}, seasonal_order=(0, 0, 0, 0),\n",
              "      start_params=None, suppress_warnings=False, trend=None,\n",
              "      with_intercept=False)"
            ]
          },
          "metadata": {
            "tags": []
          },
          "execution_count": 9
        }
      ]
    },
    {
      "cell_type": "code",
      "metadata": {
        "id": "M36BsfWlsZF-",
        "colab_type": "code",
        "colab": {
          "base_uri": "https://localhost:8080/",
          "height": 86
        },
        "outputId": "e8eadd12-9595-4bab-9ec5-d5cca21ed057"
      },
      "source": [
        "auto_arima(df['Spending'], maxiter=1000)"
      ],
      "execution_count": 10,
      "outputs": [
        {
          "output_type": "execute_result",
          "data": {
            "text/plain": [
              "ARIMA(maxiter=1000, method='lbfgs', order=(1, 1, 2), out_of_sample_size=0,\n",
              "      scoring='mse', scoring_args={}, seasonal_order=(0, 0, 0, 0),\n",
              "      start_params=None, suppress_warnings=False, trend=None,\n",
              "      with_intercept=True)"
            ]
          },
          "metadata": {
            "tags": []
          },
          "execution_count": 10
        }
      ]
    },
    {
      "cell_type": "code",
      "metadata": {
        "id": "jqAuX0Djsegm",
        "colab_type": "code",
        "colab": {
          "base_uri": "https://localhost:8080/",
          "height": 237
        },
        "outputId": "06933a43-0eb3-4f75-c1b0-5ec4564a928d"
      },
      "source": [
        "df_transformed = df.diff().diff()\n",
        "df_transformed = df_transformed.dropna()\n",
        "df_transformed.head()"
      ],
      "execution_count": 11,
      "outputs": [
        {
          "output_type": "execute_result",
          "data": {
            "text/html": [
              "<div>\n",
              "<style scoped>\n",
              "    .dataframe tbody tr th:only-of-type {\n",
              "        vertical-align: middle;\n",
              "    }\n",
              "\n",
              "    .dataframe tbody tr th {\n",
              "        vertical-align: top;\n",
              "    }\n",
              "\n",
              "    .dataframe thead th {\n",
              "        text-align: right;\n",
              "    }\n",
              "</style>\n",
              "<table border=\"1\" class=\"dataframe\">\n",
              "  <thead>\n",
              "    <tr style=\"text-align: right;\">\n",
              "      <th></th>\n",
              "      <th>Money</th>\n",
              "      <th>Spending</th>\n",
              "    </tr>\n",
              "    <tr>\n",
              "      <th>Date</th>\n",
              "      <th></th>\n",
              "      <th></th>\n",
              "    </tr>\n",
              "  </thead>\n",
              "  <tbody>\n",
              "    <tr>\n",
              "      <th>1995-03-01</th>\n",
              "      <td>3.7</td>\n",
              "      <td>35.0</td>\n",
              "    </tr>\n",
              "    <tr>\n",
              "      <th>1995-04-01</th>\n",
              "      <td>6.9</td>\n",
              "      <td>-29.8</td>\n",
              "    </tr>\n",
              "    <tr>\n",
              "      <th>1995-05-01</th>\n",
              "      <td>16.9</td>\n",
              "      <td>38.1</td>\n",
              "    </tr>\n",
              "    <tr>\n",
              "      <th>1995-06-01</th>\n",
              "      <td>-0.3</td>\n",
              "      <td>1.5</td>\n",
              "    </tr>\n",
              "    <tr>\n",
              "      <th>1995-07-01</th>\n",
              "      <td>-6.2</td>\n",
              "      <td>-51.7</td>\n",
              "    </tr>\n",
              "  </tbody>\n",
              "</table>\n",
              "</div>"
            ],
            "text/plain": [
              "            Money  Spending\n",
              "Date                       \n",
              "1995-03-01    3.7      35.0\n",
              "1995-04-01    6.9     -29.8\n",
              "1995-05-01   16.9      38.1\n",
              "1995-06-01   -0.3       1.5\n",
              "1995-07-01   -6.2     -51.7"
            ]
          },
          "metadata": {
            "tags": []
          },
          "execution_count": 11
        }
      ]
    },
    {
      "cell_type": "code",
      "metadata": {
        "id": "1erVl5KXtAJ9",
        "colab_type": "code",
        "colab": {}
      },
      "source": [
        "nobs = 12\n",
        "train, test = df_transformed[0:-nobs], df_transformed[-nobs:]"
      ],
      "execution_count": 12,
      "outputs": []
    },
    {
      "cell_type": "code",
      "metadata": {
        "id": "z2Tu8XnWtLMT",
        "colab_type": "code",
        "colab": {
          "base_uri": "https://localhost:8080/",
          "height": 850
        },
        "outputId": "6dd1313d-39c9-497f-81f0-cd4e09f2b79f"
      },
      "source": [
        "model = VARMAX(train, order=(1,2), trend='c')\n",
        "results = model.fit(maxiter=1000, disp=False)\n",
        "results.summary()"
      ],
      "execution_count": 13,
      "outputs": [
        {
          "output_type": "execute_result",
          "data": {
            "text/html": [
              "<table class=\"simpletable\">\n",
              "<caption>Statespace Model Results</caption>\n",
              "<tr>\n",
              "  <th>Dep. Variable:</th>   <td>['Money', 'Spending']</td> <th>  No. Observations:  </th>    <td>238</td>   \n",
              "</tr>\n",
              "<tr>\n",
              "  <th>Model:</th>                <td>VARMA(1,2)</td>       <th>  Log Likelihood     </th> <td>-2286.309</td>\n",
              "</tr>\n",
              "<tr>\n",
              "  <th></th>                      <td>+ intercept</td>      <th>  AIC                </th> <td>4606.618</td> \n",
              "</tr>\n",
              "<tr>\n",
              "  <th>Date:</th>              <td>Sun, 16 Aug 2020</td>    <th>  BIC                </th> <td>4665.646</td> \n",
              "</tr>\n",
              "<tr>\n",
              "  <th>Time:</th>                  <td>14:47:18</td>        <th>  HQIC               </th> <td>4630.407</td> \n",
              "</tr>\n",
              "<tr>\n",
              "  <th>Sample:</th>               <td>03-01-1995</td>       <th>                     </th>     <td> </td>    \n",
              "</tr>\n",
              "<tr>\n",
              "  <th></th>                     <td>- 12-01-2014</td>      <th>                     </th>     <td> </td>    \n",
              "</tr>\n",
              "<tr>\n",
              "  <th>Covariance Type:</th>          <td>opg</td>          <th>                     </th>     <td> </td>    \n",
              "</tr>\n",
              "</table>\n",
              "<table class=\"simpletable\">\n",
              "<tr>\n",
              "  <th>Ljung-Box (Q):</th>          <td>68.08, 28.09</td> <th>  Jarque-Bera (JB):  </th> <td>566.68, 126.74</td>\n",
              "</tr>\n",
              "<tr>\n",
              "  <th>Prob(Q):</th>                 <td>0.00, 0.92</td>  <th>  Prob(JB):          </th>   <td>0.00, 0.00</td>  \n",
              "</tr>\n",
              "<tr>\n",
              "  <th>Heteroskedasticity (H):</th>  <td>5.68, 2.89</td>  <th>  Skew:              </th>   <td>1.36, -0.35</td> \n",
              "</tr>\n",
              "<tr>\n",
              "  <th>Prob(H) (two-sided):</th>     <td>0.00, 0.00</td>  <th>  Kurtosis:          </th>   <td>10.05, 6.51</td> \n",
              "</tr>\n",
              "</table>\n",
              "<table class=\"simpletable\">\n",
              "<caption>Results for equation Money</caption>\n",
              "<tr>\n",
              "         <td></td>           <th>coef</th>     <th>std err</th>      <th>z</th>      <th>P>|z|</th>  <th>[0.025</th>    <th>0.975]</th>  \n",
              "</tr>\n",
              "<tr>\n",
              "  <th>intercept</th>      <td>    0.1972</td> <td>    0.681</td> <td>    0.290</td> <td> 0.772</td> <td>   -1.137</td> <td>    1.532</td>\n",
              "</tr>\n",
              "<tr>\n",
              "  <th>L1.Money</th>       <td>   -0.9671</td> <td>    2.957</td> <td>   -0.327</td> <td> 0.744</td> <td>   -6.762</td> <td>    4.828</td>\n",
              "</tr>\n",
              "<tr>\n",
              "  <th>L1.Spending</th>    <td>    1.7808</td> <td>    5.096</td> <td>    0.349</td> <td> 0.727</td> <td>   -8.207</td> <td>   11.769</td>\n",
              "</tr>\n",
              "<tr>\n",
              "  <th>L1.e(Money)</th>    <td>    0.2006</td> <td>    2.946</td> <td>    0.068</td> <td> 0.946</td> <td>   -5.573</td> <td>    5.974</td>\n",
              "</tr>\n",
              "<tr>\n",
              "  <th>L1.e(Spending)</th> <td>   -1.9005</td> <td>    5.097</td> <td>   -0.373</td> <td> 0.709</td> <td>  -11.891</td> <td>    8.090</td>\n",
              "</tr>\n",
              "<tr>\n",
              "  <th>L2.e(Money)</th>    <td>   -1.2125</td> <td>    2.971</td> <td>   -0.408</td> <td> 0.683</td> <td>   -7.035</td> <td>    4.610</td>\n",
              "</tr>\n",
              "<tr>\n",
              "  <th>L2.e(Spending)</th> <td>    1.6790</td> <td>    4.511</td> <td>    0.372</td> <td> 0.710</td> <td>   -7.163</td> <td>   10.521</td>\n",
              "</tr>\n",
              "</table>\n",
              "<table class=\"simpletable\">\n",
              "<caption>Results for equation Spending</caption>\n",
              "<tr>\n",
              "         <td></td>           <th>coef</th>     <th>std err</th>      <th>z</th>      <th>P>|z|</th>  <th>[0.025</th>    <th>0.975]</th>  \n",
              "</tr>\n",
              "<tr>\n",
              "  <th>intercept</th>      <td>    0.0803</td> <td>    0.156</td> <td>    0.513</td> <td> 0.608</td> <td>   -0.226</td> <td>    0.387</td>\n",
              "</tr>\n",
              "<tr>\n",
              "  <th>L1.Money</th>       <td>   -0.2063</td> <td>    1.851</td> <td>   -0.111</td> <td> 0.911</td> <td>   -3.835</td> <td>    3.422</td>\n",
              "</tr>\n",
              "<tr>\n",
              "  <th>L1.Spending</th>    <td>    0.4881</td> <td>    3.023</td> <td>    0.161</td> <td> 0.872</td> <td>   -5.437</td> <td>    6.413</td>\n",
              "</tr>\n",
              "<tr>\n",
              "  <th>L1.e(Money)</th>    <td>    0.3267</td> <td>    1.906</td> <td>    0.171</td> <td> 0.864</td> <td>   -3.410</td> <td>    4.063</td>\n",
              "</tr>\n",
              "<tr>\n",
              "  <th>L1.e(Spending)</th> <td>   -1.4493</td> <td>    3.004</td> <td>   -0.482</td> <td> 0.629</td> <td>   -7.336</td> <td>    4.438</td>\n",
              "</tr>\n",
              "<tr>\n",
              "  <th>L2.e(Money)</th>    <td>   -0.3246</td> <td>    1.928</td> <td>   -0.168</td> <td> 0.866</td> <td>   -4.103</td> <td>    3.454</td>\n",
              "</tr>\n",
              "<tr>\n",
              "  <th>L2.e(Spending)</th> <td>    0.5054</td> <td>    2.642</td> <td>    0.191</td> <td> 0.848</td> <td>   -4.672</td> <td>    5.683</td>\n",
              "</tr>\n",
              "</table>\n",
              "<table class=\"simpletable\">\n",
              "<caption>Error covariance matrix</caption>\n",
              "<tr>\n",
              "             <td></td>                <th>coef</th>     <th>std err</th>      <th>z</th>      <th>P>|z|</th>  <th>[0.025</th>    <th>0.975]</th>  \n",
              "</tr>\n",
              "<tr>\n",
              "  <th>sqrt.var.Money</th>          <td>   25.5463</td> <td>    1.723</td> <td>   14.826</td> <td> 0.000</td> <td>   22.169</td> <td>   28.923</td>\n",
              "</tr>\n",
              "<tr>\n",
              "  <th>sqrt.cov.Money.Spending</th> <td>   -9.7312</td> <td>    1.889</td> <td>   -5.152</td> <td> 0.000</td> <td>  -13.433</td> <td>   -6.029</td>\n",
              "</tr>\n",
              "<tr>\n",
              "  <th>sqrt.var.Spending</th>       <td>   33.6015</td> <td>    1.245</td> <td>   26.982</td> <td> 0.000</td> <td>   31.161</td> <td>   36.042</td>\n",
              "</tr>\n",
              "</table><br/><br/>Warnings:<br/>[1] Covariance matrix calculated using the outer product of gradients (complex-step)."
            ],
            "text/plain": [
              "<class 'statsmodels.iolib.summary.Summary'>\n",
              "\"\"\"\n",
              "                             Statespace Model Results                            \n",
              "=================================================================================\n",
              "Dep. Variable:     ['Money', 'Spending']   No. Observations:                  238\n",
              "Model:                        VARMA(1,2)   Log Likelihood               -2286.309\n",
              "                             + intercept   AIC                           4606.618\n",
              "Date:                   Sun, 16 Aug 2020   BIC                           4665.646\n",
              "Time:                           14:47:18   HQIC                          4630.407\n",
              "Sample:                       03-01-1995                                         \n",
              "                            - 12-01-2014                                         \n",
              "Covariance Type:                     opg                                         \n",
              "===================================================================================\n",
              "Ljung-Box (Q):                68.08, 28.09   Jarque-Bera (JB):       566.68, 126.74\n",
              "Prob(Q):                        0.00, 0.92   Prob(JB):                   0.00, 0.00\n",
              "Heteroskedasticity (H):         5.68, 2.89   Skew:                      1.36, -0.35\n",
              "Prob(H) (two-sided):            0.00, 0.00   Kurtosis:                  10.05, 6.51\n",
              "                            Results for equation Money                            \n",
              "==================================================================================\n",
              "                     coef    std err          z      P>|z|      [0.025      0.975]\n",
              "----------------------------------------------------------------------------------\n",
              "intercept          0.1972      0.681      0.290      0.772      -1.137       1.532\n",
              "L1.Money          -0.9671      2.957     -0.327      0.744      -6.762       4.828\n",
              "L1.Spending        1.7808      5.096      0.349      0.727      -8.207      11.769\n",
              "L1.e(Money)        0.2006      2.946      0.068      0.946      -5.573       5.974\n",
              "L1.e(Spending)    -1.9005      5.097     -0.373      0.709     -11.891       8.090\n",
              "L2.e(Money)       -1.2125      2.971     -0.408      0.683      -7.035       4.610\n",
              "L2.e(Spending)     1.6790      4.511      0.372      0.710      -7.163      10.521\n",
              "                          Results for equation Spending                           \n",
              "==================================================================================\n",
              "                     coef    std err          z      P>|z|      [0.025      0.975]\n",
              "----------------------------------------------------------------------------------\n",
              "intercept          0.0803      0.156      0.513      0.608      -0.226       0.387\n",
              "L1.Money          -0.2063      1.851     -0.111      0.911      -3.835       3.422\n",
              "L1.Spending        0.4881      3.023      0.161      0.872      -5.437       6.413\n",
              "L1.e(Money)        0.3267      1.906      0.171      0.864      -3.410       4.063\n",
              "L1.e(Spending)    -1.4493      3.004     -0.482      0.629      -7.336       4.438\n",
              "L2.e(Money)       -0.3246      1.928     -0.168      0.866      -4.103       3.454\n",
              "L2.e(Spending)     0.5054      2.642      0.191      0.848      -4.672       5.683\n",
              "                                  Error covariance matrix                                  \n",
              "===========================================================================================\n",
              "                              coef    std err          z      P>|z|      [0.025      0.975]\n",
              "-------------------------------------------------------------------------------------------\n",
              "sqrt.var.Money             25.5463      1.723     14.826      0.000      22.169      28.923\n",
              "sqrt.cov.Money.Spending    -9.7312      1.889     -5.152      0.000     -13.433      -6.029\n",
              "sqrt.var.Spending          33.6015      1.245     26.982      0.000      31.161      36.042\n",
              "===========================================================================================\n",
              "\n",
              "Warnings:\n",
              "[1] Covariance matrix calculated using the outer product of gradients (complex-step).\n",
              "\"\"\""
            ]
          },
          "metadata": {
            "tags": []
          },
          "execution_count": 13
        }
      ]
    },
    {
      "cell_type": "code",
      "metadata": {
        "id": "haXVDmWatYDc",
        "colab_type": "code",
        "colab": {
          "base_uri": "https://localhost:8080/",
          "height": 426
        },
        "outputId": "693ede56-78e8-4421-d810-6c42f949b330"
      },
      "source": [
        "df_forecast = results.forecast(12)\n",
        "df_forecast"
      ],
      "execution_count": 14,
      "outputs": [
        {
          "output_type": "execute_result",
          "data": {
            "text/html": [
              "<div>\n",
              "<style scoped>\n",
              "    .dataframe tbody tr th:only-of-type {\n",
              "        vertical-align: middle;\n",
              "    }\n",
              "\n",
              "    .dataframe tbody tr th {\n",
              "        vertical-align: top;\n",
              "    }\n",
              "\n",
              "    .dataframe thead th {\n",
              "        text-align: right;\n",
              "    }\n",
              "</style>\n",
              "<table border=\"1\" class=\"dataframe\">\n",
              "  <thead>\n",
              "    <tr style=\"text-align: right;\">\n",
              "      <th></th>\n",
              "      <th>Money</th>\n",
              "      <th>Spending</th>\n",
              "    </tr>\n",
              "  </thead>\n",
              "  <tbody>\n",
              "    <tr>\n",
              "      <th>2015-01-01</th>\n",
              "      <td>-12.191798</td>\n",
              "      <td>37.365311</td>\n",
              "    </tr>\n",
              "    <tr>\n",
              "      <th>2015-02-01</th>\n",
              "      <td>-11.205112</td>\n",
              "      <td>-5.136945</td>\n",
              "    </tr>\n",
              "    <tr>\n",
              "      <th>2015-03-01</th>\n",
              "      <td>1.885681</td>\n",
              "      <td>-0.115447</td>\n",
              "    </tr>\n",
              "    <tr>\n",
              "      <th>2015-04-01</th>\n",
              "      <td>-1.831952</td>\n",
              "      <td>-0.365111</td>\n",
              "    </tr>\n",
              "    <tr>\n",
              "      <th>2015-05-01</th>\n",
              "      <td>1.318704</td>\n",
              "      <td>0.279979</td>\n",
              "    </tr>\n",
              "    <tr>\n",
              "      <th>2015-06-01</th>\n",
              "      <td>-0.579469</td>\n",
              "      <td>-0.055138</td>\n",
              "    </tr>\n",
              "    <tr>\n",
              "      <th>2015-07-01</th>\n",
              "      <td>0.659448</td>\n",
              "      <td>0.172887</td>\n",
              "    </tr>\n",
              "    <tr>\n",
              "      <th>2015-08-01</th>\n",
              "      <td>-0.132621</td>\n",
              "      <td>0.028596</td>\n",
              "    </tr>\n",
              "    <tr>\n",
              "      <th>2015-09-01</th>\n",
              "      <td>0.376422</td>\n",
              "      <td>0.121573</td>\n",
              "    </tr>\n",
              "    <tr>\n",
              "      <th>2015-10-01</th>\n",
              "      <td>0.049707</td>\n",
              "      <td>0.061938</td>\n",
              "    </tr>\n",
              "    <tr>\n",
              "      <th>2015-11-01</th>\n",
              "      <td>0.259471</td>\n",
              "      <td>0.100232</td>\n",
              "    </tr>\n",
              "    <tr>\n",
              "      <th>2015-12-01</th>\n",
              "      <td>0.124806</td>\n",
              "      <td>0.075649</td>\n",
              "    </tr>\n",
              "  </tbody>\n",
              "</table>\n",
              "</div>"
            ],
            "text/plain": [
              "                Money   Spending\n",
              "2015-01-01 -12.191798  37.365311\n",
              "2015-02-01 -11.205112  -5.136945\n",
              "2015-03-01   1.885681  -0.115447\n",
              "2015-04-01  -1.831952  -0.365111\n",
              "2015-05-01   1.318704   0.279979\n",
              "2015-06-01  -0.579469  -0.055138\n",
              "2015-07-01   0.659448   0.172887\n",
              "2015-08-01  -0.132621   0.028596\n",
              "2015-09-01   0.376422   0.121573\n",
              "2015-10-01   0.049707   0.061938\n",
              "2015-11-01   0.259471   0.100232\n",
              "2015-12-01   0.124806   0.075649"
            ]
          },
          "metadata": {
            "tags": []
          },
          "execution_count": 14
        }
      ]
    },
    {
      "cell_type": "code",
      "metadata": {
        "id": "KcoahGIttpEx",
        "colab_type": "code",
        "colab": {}
      },
      "source": [
        "df_forecast['Money1D'] = (df['Money'].iloc[-nobs-1]-df['Money'].iloc[-nobs-2]) + df_forecast['Money'].cumsum()\n",
        "\n",
        "df_forecast['MoneyForecast'] = df['Money'].iloc[-nobs-1] + df_forecast['Money'].cumsum()"
      ],
      "execution_count": 15,
      "outputs": []
    },
    {
      "cell_type": "code",
      "metadata": {
        "id": "i4P7wnE0uC57",
        "colab_type": "code",
        "colab": {}
      },
      "source": [
        "df_forecast['Spending1D'] = (df['Spending'].iloc[-nobs-1]-df['Spending'].iloc[-nobs-2]) + df_forecast['Spending'].cumsum()\n",
        "\n",
        "df_forecast['SpendingForecast'] = df['Spending'].iloc[-nobs-1] + df_forecast['Spending'].cumsum()"
      ],
      "execution_count": 16,
      "outputs": []
    },
    {
      "cell_type": "code",
      "metadata": {
        "id": "S8iKmwnhuNeL",
        "colab_type": "code",
        "colab": {
          "base_uri": "https://localhost:8080/",
          "height": 446
        },
        "outputId": "942f8931-ecec-43e6-9dc9-42228df0fcb4"
      },
      "source": [
        "df_forecast"
      ],
      "execution_count": 17,
      "outputs": [
        {
          "output_type": "execute_result",
          "data": {
            "text/html": [
              "<div>\n",
              "<style scoped>\n",
              "    .dataframe tbody tr th:only-of-type {\n",
              "        vertical-align: middle;\n",
              "    }\n",
              "\n",
              "    .dataframe tbody tr th {\n",
              "        vertical-align: top;\n",
              "    }\n",
              "\n",
              "    .dataframe thead th {\n",
              "        text-align: right;\n",
              "    }\n",
              "</style>\n",
              "<table border=\"1\" class=\"dataframe\">\n",
              "  <thead>\n",
              "    <tr style=\"text-align: right;\">\n",
              "      <th></th>\n",
              "      <th>Money</th>\n",
              "      <th>Spending</th>\n",
              "      <th>Money1D</th>\n",
              "      <th>MoneyForecast</th>\n",
              "      <th>Spending1D</th>\n",
              "      <th>SpendingForecast</th>\n",
              "    </tr>\n",
              "  </thead>\n",
              "  <tbody>\n",
              "    <tr>\n",
              "      <th>2015-01-01</th>\n",
              "      <td>-12.191798</td>\n",
              "      <td>37.365311</td>\n",
              "      <td>66.408202</td>\n",
              "      <td>11657.908202</td>\n",
              "      <td>47.965311</td>\n",
              "      <td>12099.365311</td>\n",
              "    </tr>\n",
              "    <tr>\n",
              "      <th>2015-02-01</th>\n",
              "      <td>-11.205112</td>\n",
              "      <td>-5.136945</td>\n",
              "      <td>55.203090</td>\n",
              "      <td>11646.703090</td>\n",
              "      <td>42.828367</td>\n",
              "      <td>12094.228367</td>\n",
              "    </tr>\n",
              "    <tr>\n",
              "      <th>2015-03-01</th>\n",
              "      <td>1.885681</td>\n",
              "      <td>-0.115447</td>\n",
              "      <td>57.088771</td>\n",
              "      <td>11648.588771</td>\n",
              "      <td>42.712920</td>\n",
              "      <td>12094.112920</td>\n",
              "    </tr>\n",
              "    <tr>\n",
              "      <th>2015-04-01</th>\n",
              "      <td>-1.831952</td>\n",
              "      <td>-0.365111</td>\n",
              "      <td>55.256819</td>\n",
              "      <td>11646.756819</td>\n",
              "      <td>42.347809</td>\n",
              "      <td>12093.747809</td>\n",
              "    </tr>\n",
              "    <tr>\n",
              "      <th>2015-05-01</th>\n",
              "      <td>1.318704</td>\n",
              "      <td>0.279979</td>\n",
              "      <td>56.575523</td>\n",
              "      <td>11648.075523</td>\n",
              "      <td>42.627787</td>\n",
              "      <td>12094.027787</td>\n",
              "    </tr>\n",
              "    <tr>\n",
              "      <th>2015-06-01</th>\n",
              "      <td>-0.579469</td>\n",
              "      <td>-0.055138</td>\n",
              "      <td>55.996054</td>\n",
              "      <td>11647.496054</td>\n",
              "      <td>42.572649</td>\n",
              "      <td>12093.972649</td>\n",
              "    </tr>\n",
              "    <tr>\n",
              "      <th>2015-07-01</th>\n",
              "      <td>0.659448</td>\n",
              "      <td>0.172887</td>\n",
              "      <td>56.655502</td>\n",
              "      <td>11648.155502</td>\n",
              "      <td>42.745537</td>\n",
              "      <td>12094.145537</td>\n",
              "    </tr>\n",
              "    <tr>\n",
              "      <th>2015-08-01</th>\n",
              "      <td>-0.132621</td>\n",
              "      <td>0.028596</td>\n",
              "      <td>56.522880</td>\n",
              "      <td>11648.022880</td>\n",
              "      <td>42.774133</td>\n",
              "      <td>12094.174133</td>\n",
              "    </tr>\n",
              "    <tr>\n",
              "      <th>2015-09-01</th>\n",
              "      <td>0.376422</td>\n",
              "      <td>0.121573</td>\n",
              "      <td>56.899303</td>\n",
              "      <td>11648.399303</td>\n",
              "      <td>42.895706</td>\n",
              "      <td>12094.295706</td>\n",
              "    </tr>\n",
              "    <tr>\n",
              "      <th>2015-10-01</th>\n",
              "      <td>0.049707</td>\n",
              "      <td>0.061938</td>\n",
              "      <td>56.949010</td>\n",
              "      <td>11648.449010</td>\n",
              "      <td>42.957644</td>\n",
              "      <td>12094.357644</td>\n",
              "    </tr>\n",
              "    <tr>\n",
              "      <th>2015-11-01</th>\n",
              "      <td>0.259471</td>\n",
              "      <td>0.100232</td>\n",
              "      <td>57.208481</td>\n",
              "      <td>11648.708481</td>\n",
              "      <td>43.057877</td>\n",
              "      <td>12094.457877</td>\n",
              "    </tr>\n",
              "    <tr>\n",
              "      <th>2015-12-01</th>\n",
              "      <td>0.124806</td>\n",
              "      <td>0.075649</td>\n",
              "      <td>57.333287</td>\n",
              "      <td>11648.833287</td>\n",
              "      <td>43.133526</td>\n",
              "      <td>12094.533526</td>\n",
              "    </tr>\n",
              "  </tbody>\n",
              "</table>\n",
              "</div>"
            ],
            "text/plain": [
              "                Money   Spending  ...  Spending1D  SpendingForecast\n",
              "2015-01-01 -12.191798  37.365311  ...   47.965311      12099.365311\n",
              "2015-02-01 -11.205112  -5.136945  ...   42.828367      12094.228367\n",
              "2015-03-01   1.885681  -0.115447  ...   42.712920      12094.112920\n",
              "2015-04-01  -1.831952  -0.365111  ...   42.347809      12093.747809\n",
              "2015-05-01   1.318704   0.279979  ...   42.627787      12094.027787\n",
              "2015-06-01  -0.579469  -0.055138  ...   42.572649      12093.972649\n",
              "2015-07-01   0.659448   0.172887  ...   42.745537      12094.145537\n",
              "2015-08-01  -0.132621   0.028596  ...   42.774133      12094.174133\n",
              "2015-09-01   0.376422   0.121573  ...   42.895706      12094.295706\n",
              "2015-10-01   0.049707   0.061938  ...   42.957644      12094.357644\n",
              "2015-11-01   0.259471   0.100232  ...   43.057877      12094.457877\n",
              "2015-12-01   0.124806   0.075649  ...   43.133526      12094.533526\n",
              "\n",
              "[12 rows x 6 columns]"
            ]
          },
          "metadata": {
            "tags": []
          },
          "execution_count": 17
        }
      ]
    },
    {
      "cell_type": "code",
      "metadata": {
        "id": "rI6MGhPXvNX2",
        "colab_type": "code",
        "colab": {
          "base_uri": "https://localhost:8080/",
          "height": 457
        },
        "outputId": "ed2912d5-e9ad-4c13-84c0-2b200ba5cf7a"
      },
      "source": [
        "pd.concat([df.iloc[-12:], df_forecast[['MoneyForecast', 'SpendingForecast']]], axis=1)"
      ],
      "execution_count": 20,
      "outputs": [
        {
          "output_type": "execute_result",
          "data": {
            "text/html": [
              "<div>\n",
              "<style scoped>\n",
              "    .dataframe tbody tr th:only-of-type {\n",
              "        vertical-align: middle;\n",
              "    }\n",
              "\n",
              "    .dataframe tbody tr th {\n",
              "        vertical-align: top;\n",
              "    }\n",
              "\n",
              "    .dataframe thead th {\n",
              "        text-align: right;\n",
              "    }\n",
              "</style>\n",
              "<table border=\"1\" class=\"dataframe\">\n",
              "  <thead>\n",
              "    <tr style=\"text-align: right;\">\n",
              "      <th></th>\n",
              "      <th>Money</th>\n",
              "      <th>Spending</th>\n",
              "      <th>MoneyForecast</th>\n",
              "      <th>SpendingForecast</th>\n",
              "    </tr>\n",
              "    <tr>\n",
              "      <th>Date</th>\n",
              "      <th></th>\n",
              "      <th></th>\n",
              "      <th></th>\n",
              "      <th></th>\n",
              "    </tr>\n",
              "  </thead>\n",
              "  <tbody>\n",
              "    <tr>\n",
              "      <th>2015-01-01</th>\n",
              "      <td>11733.2</td>\n",
              "      <td>12046.0</td>\n",
              "      <td>11657.908202</td>\n",
              "      <td>12099.365311</td>\n",
              "    </tr>\n",
              "    <tr>\n",
              "      <th>2015-02-01</th>\n",
              "      <td>11852.4</td>\n",
              "      <td>12082.4</td>\n",
              "      <td>11646.703090</td>\n",
              "      <td>12094.228367</td>\n",
              "    </tr>\n",
              "    <tr>\n",
              "      <th>2015-03-01</th>\n",
              "      <td>11868.8</td>\n",
              "      <td>12158.3</td>\n",
              "      <td>11648.588771</td>\n",
              "      <td>12094.112920</td>\n",
              "    </tr>\n",
              "    <tr>\n",
              "      <th>2015-04-01</th>\n",
              "      <td>11916.1</td>\n",
              "      <td>12193.8</td>\n",
              "      <td>11646.756819</td>\n",
              "      <td>12093.747809</td>\n",
              "    </tr>\n",
              "    <tr>\n",
              "      <th>2015-05-01</th>\n",
              "      <td>11947.6</td>\n",
              "      <td>12268.1</td>\n",
              "      <td>11648.075523</td>\n",
              "      <td>12094.027787</td>\n",
              "    </tr>\n",
              "    <tr>\n",
              "      <th>2015-06-01</th>\n",
              "      <td>11993.1</td>\n",
              "      <td>12308.3</td>\n",
              "      <td>11647.496054</td>\n",
              "      <td>12093.972649</td>\n",
              "    </tr>\n",
              "    <tr>\n",
              "      <th>2015-07-01</th>\n",
              "      <td>12045.3</td>\n",
              "      <td>12355.4</td>\n",
              "      <td>11648.155502</td>\n",
              "      <td>12094.145537</td>\n",
              "    </tr>\n",
              "    <tr>\n",
              "      <th>2015-08-01</th>\n",
              "      <td>12096.8</td>\n",
              "      <td>12394.0</td>\n",
              "      <td>11648.022880</td>\n",
              "      <td>12094.174133</td>\n",
              "    </tr>\n",
              "    <tr>\n",
              "      <th>2015-09-01</th>\n",
              "      <td>12153.8</td>\n",
              "      <td>12392.8</td>\n",
              "      <td>11648.399303</td>\n",
              "      <td>12094.295706</td>\n",
              "    </tr>\n",
              "    <tr>\n",
              "      <th>2015-10-01</th>\n",
              "      <td>12187.7</td>\n",
              "      <td>12416.1</td>\n",
              "      <td>11648.449010</td>\n",
              "      <td>12094.357644</td>\n",
              "    </tr>\n",
              "    <tr>\n",
              "      <th>2015-11-01</th>\n",
              "      <td>12277.4</td>\n",
              "      <td>12450.1</td>\n",
              "      <td>11648.708481</td>\n",
              "      <td>12094.457877</td>\n",
              "    </tr>\n",
              "    <tr>\n",
              "      <th>2015-12-01</th>\n",
              "      <td>12335.9</td>\n",
              "      <td>12469.1</td>\n",
              "      <td>11648.833287</td>\n",
              "      <td>12094.533526</td>\n",
              "    </tr>\n",
              "  </tbody>\n",
              "</table>\n",
              "</div>"
            ],
            "text/plain": [
              "              Money  Spending  MoneyForecast  SpendingForecast\n",
              "Date                                                          \n",
              "2015-01-01  11733.2   12046.0   11657.908202      12099.365311\n",
              "2015-02-01  11852.4   12082.4   11646.703090      12094.228367\n",
              "2015-03-01  11868.8   12158.3   11648.588771      12094.112920\n",
              "2015-04-01  11916.1   12193.8   11646.756819      12093.747809\n",
              "2015-05-01  11947.6   12268.1   11648.075523      12094.027787\n",
              "2015-06-01  11993.1   12308.3   11647.496054      12093.972649\n",
              "2015-07-01  12045.3   12355.4   11648.155502      12094.145537\n",
              "2015-08-01  12096.8   12394.0   11648.022880      12094.174133\n",
              "2015-09-01  12153.8   12392.8   11648.399303      12094.295706\n",
              "2015-10-01  12187.7   12416.1   11648.449010      12094.357644\n",
              "2015-11-01  12277.4   12450.1   11648.708481      12094.457877\n",
              "2015-12-01  12335.9   12469.1   11648.833287      12094.533526"
            ]
          },
          "metadata": {
            "tags": []
          },
          "execution_count": 20
        }
      ]
    },
    {
      "cell_type": "code",
      "metadata": {
        "id": "KbEE6qcsuSIz",
        "colab_type": "code",
        "colab": {
          "base_uri": "https://localhost:8080/",
          "height": 339
        },
        "outputId": "997ebdac-b422-4b59-d1e2-b0c1eccc28e3"
      },
      "source": [
        "df['Money'][-nobs:].plot(figsize=(12,5), legend=True).autoscale(axis='x', tight=True)\n",
        "df_forecast['MoneyForecast'].plot(legend=True)"
      ],
      "execution_count": 21,
      "outputs": [
        {
          "output_type": "execute_result",
          "data": {
            "text/plain": [
              "<matplotlib.axes._subplots.AxesSubplot at 0x7f70efd18160>"
            ]
          },
          "metadata": {
            "tags": []
          },
          "execution_count": 21
        },
        {
          "output_type": "display_data",
          "data": {
            "image/png": "[encoded data removed]",
            "text/plain": [
              "<Figure size 864x360 with 1 Axes>"
            ]
          },
          "metadata": {
            "tags": [],
            "needs_background": "light"
          }
        }
      ]
    },
    {
      "cell_type": "code",
      "metadata": {
        "id": "ZNAArkUwulbI",
        "colab_type": "code",
        "colab": {
          "base_uri": "https://localhost:8080/",
          "height": 339
        },
        "outputId": "2d027df7-f6eb-4966-f58a-7255e3e2b5a9"
      },
      "source": [
        "df['Spending'][-nobs:].plot(figsize=(12,5), legend=True).autoscale(axis='x', tight=True)\n",
        "df_forecast['SpendingForecast'].plot(legend=True)"
      ],
      "execution_count": 22,
      "outputs": [
        {
          "output_type": "execute_result",
          "data": {
            "text/plain": [
              "<matplotlib.axes._subplots.AxesSubplot at 0x7f70f0075ef0>"
            ]
          },
          "metadata": {
            "tags": []
          },
          "execution_count": 22
        },
        {
          "output_type": "display_data",
          "data": {
            "image/png": "[encoded data removed]",
            "text/plain": [
              "<Figure size 864x360 with 1 Axes>"
            ]
          },
          "metadata": {
            "tags": [],
            "needs_background": "light"
          }
        }
      ]
    },
    {
      "cell_type": "code",
      "metadata": {
        "id": "_UuvdrZtuyQB",
        "colab_type": "code",
        "colab": {
          "base_uri": "https://localhost:8080/",
          "height": 34
        },
        "outputId": "9cf38a31-531e-4228-f409-812667af6ba3"
      },
      "source": [
        "RMSE1 = rmse(df['Money'][-nobs:], df_forecast['MoneyForecast'])\n",
        "print(f'Money VAR(5) RMSE: {RMSE1:.3f}')"
      ],
      "execution_count": 23,
      "outputs": [
        {
          "output_type": "stream",
          "text": [
            "Money VAR(5) RMSE: 423.363\n"
          ],
          "name": "stdout"
        }
      ]
    },
    {
      "cell_type": "code",
      "metadata": {
        "id": "QDU_AcFuvurh",
        "colab_type": "code",
        "colab": {
          "base_uri": "https://localhost:8080/",
          "height": 34
        },
        "outputId": "1375ddbf-a611-423c-bb01-6eb464981ee7"
      },
      "source": [
        "RMSE2 = rmse(df['Spending'][-nobs:], df_forecast['SpendingForecast'])\n",
        "print(f'Soending VAR(5) RMSE: {RMSE2:.3f}')"
      ],
      "execution_count": 24,
      "outputs": [
        {
          "output_type": "stream",
          "text": [
            "Soending VAR(5) RMSE: 243.398\n"
          ],
          "name": "stdout"
        }
      ]
    },
    {
      "cell_type": "code",
      "metadata": {
        "id": "VduKj5Vov4oG",
        "colab_type": "code",
        "colab": {}
      },
      "source": [
        "from statsmodels.tsa.arima_model import ARMA, ARMAResults"
      ],
      "execution_count": 26,
      "outputs": []
    },
    {
      "cell_type": "code",
      "metadata": {
        "id": "CHr3FGLkwvre",
        "colab_type": "code",
        "colab": {
          "base_uri": "https://localhost:8080/",
          "height": 400
        },
        "outputId": "16090037-e23f-42c1-de90-65c400516ab0"
      },
      "source": [
        "model = ARMA(train['Money'], order=(1,2))\n",
        "results = model.fit()\n",
        "results.summary()"
      ],
      "execution_count": 27,
      "outputs": [
        {
          "output_type": "execute_result",
          "data": {
            "text/html": [
              "<table class=\"simpletable\">\n",
              "<caption>ARMA Model Results</caption>\n",
              "<tr>\n",
              "  <th>Dep. Variable:</th>       <td>Money</td>      <th>  No. Observations:  </th>    <td>238</td>   \n",
              "</tr>\n",
              "<tr>\n",
              "  <th>Model:</th>            <td>ARMA(1, 2)</td>    <th>  Log Likelihood     </th> <td>-1117.710</td>\n",
              "</tr>\n",
              "<tr>\n",
              "  <th>Method:</th>             <td>css-mle</td>     <th>  S.D. of innovations</th>  <td>26.215</td>  \n",
              "</tr>\n",
              "<tr>\n",
              "  <th>Date:</th>          <td>Sun, 16 Aug 2020</td> <th>  AIC                </th> <td>2245.421</td> \n",
              "</tr>\n",
              "<tr>\n",
              "  <th>Time:</th>              <td>14:54:19</td>     <th>  BIC                </th> <td>2262.782</td> \n",
              "</tr>\n",
              "<tr>\n",
              "  <th>Sample:</th>           <td>03-01-1995</td>    <th>  HQIC               </th> <td>2252.418</td> \n",
              "</tr>\n",
              "<tr>\n",
              "  <th></th>                 <td>- 12-01-2014</td>   <th>                     </th>     <td> </td>    \n",
              "</tr>\n",
              "</table>\n",
              "<table class=\"simpletable\">\n",
              "<tr>\n",
              "       <td></td>          <th>coef</th>     <th>std err</th>      <th>z</th>      <th>P>|z|</th>  <th>[0.025</th>    <th>0.975]</th>  \n",
              "</tr>\n",
              "<tr>\n",
              "  <th>const</th>       <td>    0.1814</td> <td>    0.029</td> <td>    6.302</td> <td> 0.000</td> <td>    0.125</td> <td>    0.238</td>\n",
              "</tr>\n",
              "<tr>\n",
              "  <th>ar.L1.Money</th> <td>   -0.3569</td> <td>    0.293</td> <td>   -1.217</td> <td> 0.223</td> <td>   -0.931</td> <td>    0.218</td>\n",
              "</tr>\n",
              "<tr>\n",
              "  <th>ma.L1.Money</th> <td>   -0.4087</td> <td>    0.260</td> <td>   -1.572</td> <td> 0.116</td> <td>   -0.918</td> <td>    0.101</td>\n",
              "</tr>\n",
              "<tr>\n",
              "  <th>ma.L2.Money</th> <td>   -0.5912</td> <td>    0.260</td> <td>   -2.278</td> <td> 0.023</td> <td>   -1.100</td> <td>   -0.083</td>\n",
              "</tr>\n",
              "</table>\n",
              "<table class=\"simpletable\">\n",
              "<caption>Roots</caption>\n",
              "<tr>\n",
              "    <td></td>   <th>            Real</th>  <th>         Imaginary</th> <th>         Modulus</th>  <th>        Frequency</th>\n",
              "</tr>\n",
              "<tr>\n",
              "  <th>AR.1</th> <td>          -2.8023</td> <td>          +0.0000j</td> <td>           2.8023</td> <td>           0.5000</td>\n",
              "</tr>\n",
              "<tr>\n",
              "  <th>MA.1</th> <td>           1.0001</td> <td>          +0.0000j</td> <td>           1.0001</td> <td>           0.0000</td>\n",
              "</tr>\n",
              "<tr>\n",
              "  <th>MA.2</th> <td>          -1.6913</td> <td>          +0.0000j</td> <td>           1.6913</td> <td>           0.5000</td>\n",
              "</tr>\n",
              "</table>"
            ],
            "text/plain": [
              "<class 'statsmodels.iolib.summary.Summary'>\n",
              "\"\"\"\n",
              "                              ARMA Model Results                              \n",
              "==============================================================================\n",
              "Dep. Variable:                  Money   No. Observations:                  238\n",
              "Model:                     ARMA(1, 2)   Log Likelihood               -1117.710\n",
              "Method:                       css-mle   S.D. of innovations             26.215\n",
              "Date:                Sun, 16 Aug 2020   AIC                           2245.421\n",
              "Time:                        14:54:19   BIC                           2262.782\n",
              "Sample:                    03-01-1995   HQIC                          2252.418\n",
              "                         - 12-01-2014                                         \n",
              "===============================================================================\n",
              "                  coef    std err          z      P>|z|      [0.025      0.975]\n",
              "-------------------------------------------------------------------------------\n",
              "const           0.1814      0.029      6.302      0.000       0.125       0.238\n",
              "ar.L1.Money    -0.3569      0.293     -1.217      0.223      -0.931       0.218\n",
              "ma.L1.Money    -0.4087      0.260     -1.572      0.116      -0.918       0.101\n",
              "ma.L2.Money    -0.5912      0.260     -2.278      0.023      -1.100      -0.083\n",
              "                                    Roots                                    \n",
              "=============================================================================\n",
              "                  Real          Imaginary           Modulus         Frequency\n",
              "-----------------------------------------------------------------------------\n",
              "AR.1           -2.8023           +0.0000j            2.8023            0.5000\n",
              "MA.1            1.0001           +0.0000j            1.0001            0.0000\n",
              "MA.2           -1.6913           +0.0000j            1.6913            0.5000\n",
              "-----------------------------------------------------------------------------\n",
              "\"\"\""
            ]
          },
          "metadata": {
            "tags": []
          },
          "execution_count": 27
        }
      ]
    },
    {
      "cell_type": "code",
      "metadata": {
        "id": "Chr0Uoxew5SN",
        "colab_type": "code",
        "colab": {}
      },
      "source": [
        "start = len(train)\n",
        "end = len(train) + len(test) - 1\n",
        "z1 = results.predict(start=start, end=end).rename('Money')\n",
        "z1 = pd.DataFrame(z1)"
      ],
      "execution_count": 28,
      "outputs": []
    },
    {
      "cell_type": "code",
      "metadata": {
        "id": "qSH9wXxqxNYa",
        "colab_type": "code",
        "colab": {}
      },
      "source": [
        "z1['Money1D'] = (df['Money'].iloc[-nobs-1]-df['Money'].iloc[-nobs-2]) + z1['Money'].cumsum()\n",
        "\n",
        "z1['MoneyForecast'] = df['Money'].iloc[-nobs-1] + z1['Money1D'].cumsum()"
      ],
      "execution_count": 29,
      "outputs": []
    },
    {
      "cell_type": "code",
      "metadata": {
        "id": "IQtfoyNExm2Q",
        "colab_type": "code",
        "colab": {
          "base_uri": "https://localhost:8080/",
          "height": 426
        },
        "outputId": "8c02f07d-8a8d-4160-b903-6561cf1c0f69"
      },
      "source": [
        "z1"
      ],
      "execution_count": 31,
      "outputs": [
        {
          "output_type": "execute_result",
          "data": {
            "text/html": [
              "<div>\n",
              "<style scoped>\n",
              "    .dataframe tbody tr th:only-of-type {\n",
              "        vertical-align: middle;\n",
              "    }\n",
              "\n",
              "    .dataframe tbody tr th {\n",
              "        vertical-align: top;\n",
              "    }\n",
              "\n",
              "    .dataframe thead th {\n",
              "        text-align: right;\n",
              "    }\n",
              "</style>\n",
              "<table border=\"1\" class=\"dataframe\">\n",
              "  <thead>\n",
              "    <tr style=\"text-align: right;\">\n",
              "      <th></th>\n",
              "      <th>Money</th>\n",
              "      <th>Money1D</th>\n",
              "      <th>MoneyForecast</th>\n",
              "    </tr>\n",
              "  </thead>\n",
              "  <tbody>\n",
              "    <tr>\n",
              "      <th>2015-01-01</th>\n",
              "      <td>-14.498594</td>\n",
              "      <td>64.101406</td>\n",
              "      <td>11734.201406</td>\n",
              "    </tr>\n",
              "    <tr>\n",
              "      <th>2015-02-01</th>\n",
              "      <td>-10.946732</td>\n",
              "      <td>53.154674</td>\n",
              "      <td>11787.356080</td>\n",
              "    </tr>\n",
              "    <tr>\n",
              "      <th>2015-03-01</th>\n",
              "      <td>4.152525</td>\n",
              "      <td>57.307199</td>\n",
              "      <td>11844.663279</td>\n",
              "    </tr>\n",
              "    <tr>\n",
              "      <th>2015-04-01</th>\n",
              "      <td>-1.235720</td>\n",
              "      <td>56.071478</td>\n",
              "      <td>11900.734757</td>\n",
              "    </tr>\n",
              "    <tr>\n",
              "      <th>2015-05-01</th>\n",
              "      <td>0.687102</td>\n",
              "      <td>56.758580</td>\n",
              "      <td>11957.493338</td>\n",
              "    </tr>\n",
              "    <tr>\n",
              "      <th>2015-06-01</th>\n",
              "      <td>0.000933</td>\n",
              "      <td>56.759513</td>\n",
              "      <td>12014.252851</td>\n",
              "    </tr>\n",
              "    <tr>\n",
              "      <th>2015-07-01</th>\n",
              "      <td>0.245796</td>\n",
              "      <td>57.005309</td>\n",
              "      <td>12071.258160</td>\n",
              "    </tr>\n",
              "    <tr>\n",
              "      <th>2015-08-01</th>\n",
              "      <td>0.158415</td>\n",
              "      <td>57.163724</td>\n",
              "      <td>12128.421884</td>\n",
              "    </tr>\n",
              "    <tr>\n",
              "      <th>2015-09-01</th>\n",
              "      <td>0.189597</td>\n",
              "      <td>57.353322</td>\n",
              "      <td>12185.775206</td>\n",
              "    </tr>\n",
              "    <tr>\n",
              "      <th>2015-10-01</th>\n",
              "      <td>0.178470</td>\n",
              "      <td>57.531792</td>\n",
              "      <td>12243.306998</td>\n",
              "    </tr>\n",
              "    <tr>\n",
              "      <th>2015-11-01</th>\n",
              "      <td>0.182441</td>\n",
              "      <td>57.714233</td>\n",
              "      <td>12301.021231</td>\n",
              "    </tr>\n",
              "    <tr>\n",
              "      <th>2015-12-01</th>\n",
              "      <td>0.181024</td>\n",
              "      <td>57.895257</td>\n",
              "      <td>12358.916487</td>\n",
              "    </tr>\n",
              "  </tbody>\n",
              "</table>\n",
              "</div>"
            ],
            "text/plain": [
              "                Money    Money1D  MoneyForecast\n",
              "2015-01-01 -14.498594  64.101406   11734.201406\n",
              "2015-02-01 -10.946732  53.154674   11787.356080\n",
              "2015-03-01   4.152525  57.307199   11844.663279\n",
              "2015-04-01  -1.235720  56.071478   11900.734757\n",
              "2015-05-01   0.687102  56.758580   11957.493338\n",
              "2015-06-01   0.000933  56.759513   12014.252851\n",
              "2015-07-01   0.245796  57.005309   12071.258160\n",
              "2015-08-01   0.158415  57.163724   12128.421884\n",
              "2015-09-01   0.189597  57.353322   12185.775206\n",
              "2015-10-01   0.178470  57.531792   12243.306998\n",
              "2015-11-01   0.182441  57.714233   12301.021231\n",
              "2015-12-01   0.181024  57.895257   12358.916487"
            ]
          },
          "metadata": {
            "tags": []
          },
          "execution_count": 31
        }
      ]
    },
    {
      "cell_type": "code",
      "metadata": {
        "id": "F8ft8i0bxnQE",
        "colab_type": "code",
        "colab": {
          "base_uri": "https://localhost:8080/",
          "height": 52
        },
        "outputId": "24433331-4433-423d-e00f-4ccbdccae68e"
      },
      "source": [
        "RMSE3 = rmse(df['Money'][-nobs:], z1['MoneyForecast'])\n",
        "\n",
        "print(f'Money VARMA(1,2) RMSE: {RMSE1:.3f}')\n",
        "print(f'Money ARMA(1,2) RMSE: {RMSE3:.3f}')"
      ],
      "execution_count": 33,
      "outputs": [
        {
          "output_type": "stream",
          "text": [
            "Money VARMA(1,2) RMSE: 423.363\n",
            "Money ARMA(1,2) RMSE: 32.238\n"
          ],
          "name": "stdout"
        }
      ]
    },
    {
      "cell_type": "code",
      "metadata": {
        "id": "VfdFyJjPx7b5",
        "colab_type": "code",
        "colab": {
          "base_uri": "https://localhost:8080/",
          "height": 400
        },
        "outputId": "130d4691-5b8c-40ad-cba6-f8703998da54"
      },
      "source": [
        "model = ARMA(train['Spending'], order=(1,2))\n",
        "results = model.fit()\n",
        "results.summary()"
      ],
      "execution_count": 34,
      "outputs": [
        {
          "output_type": "execute_result",
          "data": {
            "text/html": [
              "<table class=\"simpletable\">\n",
              "<caption>ARMA Model Results</caption>\n",
              "<tr>\n",
              "  <th>Dep. Variable:</th>     <td>Spending</td>     <th>  No. Observations:  </th>    <td>238</td>   \n",
              "</tr>\n",
              "<tr>\n",
              "  <th>Model:</th>            <td>ARMA(1, 2)</td>    <th>  Log Likelihood     </th> <td>-1182.411</td>\n",
              "</tr>\n",
              "<tr>\n",
              "  <th>Method:</th>             <td>css-mle</td>     <th>  S.D. of innovations</th>  <td>34.661</td>  \n",
              "</tr>\n",
              "<tr>\n",
              "  <th>Date:</th>          <td>Sun, 16 Aug 2020</td> <th>  AIC                </th> <td>2374.823</td> \n",
              "</tr>\n",
              "<tr>\n",
              "  <th>Time:</th>              <td>14:59:30</td>     <th>  BIC                </th> <td>2392.184</td> \n",
              "</tr>\n",
              "<tr>\n",
              "  <th>Sample:</th>           <td>03-01-1995</td>    <th>  HQIC               </th> <td>2381.820</td> \n",
              "</tr>\n",
              "<tr>\n",
              "  <th></th>                 <td>- 12-01-2014</td>   <th>                     </th>     <td> </td>    \n",
              "</tr>\n",
              "</table>\n",
              "<table class=\"simpletable\">\n",
              "<tr>\n",
              "         <td></td>           <th>coef</th>     <th>std err</th>      <th>z</th>      <th>P>|z|</th>  <th>[0.025</th>    <th>0.975]</th>  \n",
              "</tr>\n",
              "<tr>\n",
              "  <th>const</th>          <td>    0.0856</td> <td>    0.245</td> <td>    0.350</td> <td> 0.726</td> <td>   -0.394</td> <td>    0.565</td>\n",
              "</tr>\n",
              "<tr>\n",
              "  <th>ar.L1.Spending</th> <td>   -0.3403</td> <td>    0.511</td> <td>   -0.666</td> <td> 0.505</td> <td>   -1.342</td> <td>    0.661</td>\n",
              "</tr>\n",
              "<tr>\n",
              "  <th>ma.L1.Spending</th> <td>   -0.6451</td> <td>    0.521</td> <td>   -1.237</td> <td> 0.216</td> <td>   -1.667</td> <td>    0.377</td>\n",
              "</tr>\n",
              "<tr>\n",
              "  <th>ma.L2.Spending</th> <td>   -0.2139</td> <td>    0.485</td> <td>   -0.441</td> <td> 0.659</td> <td>   -1.165</td> <td>    0.737</td>\n",
              "</tr>\n",
              "</table>\n",
              "<table class=\"simpletable\">\n",
              "<caption>Roots</caption>\n",
              "<tr>\n",
              "    <td></td>   <th>            Real</th>  <th>         Imaginary</th> <th>         Modulus</th>  <th>        Frequency</th>\n",
              "</tr>\n",
              "<tr>\n",
              "  <th>AR.1</th> <td>          -2.9388</td> <td>          +0.0000j</td> <td>           2.9388</td> <td>           0.5000</td>\n",
              "</tr>\n",
              "<tr>\n",
              "  <th>MA.1</th> <td>           1.1281</td> <td>          +0.0000j</td> <td>           1.1281</td> <td>           0.0000</td>\n",
              "</tr>\n",
              "<tr>\n",
              "  <th>MA.2</th> <td>          -4.1440</td> <td>          +0.0000j</td> <td>           4.1440</td> <td>           0.5000</td>\n",
              "</tr>\n",
              "</table>"
            ],
            "text/plain": [
              "<class 'statsmodels.iolib.summary.Summary'>\n",
              "\"\"\"\n",
              "                              ARMA Model Results                              \n",
              "==============================================================================\n",
              "Dep. Variable:               Spending   No. Observations:                  238\n",
              "Model:                     ARMA(1, 2)   Log Likelihood               -1182.411\n",
              "Method:                       css-mle   S.D. of innovations             34.661\n",
              "Date:                Sun, 16 Aug 2020   AIC                           2374.823\n",
              "Time:                        14:59:30   BIC                           2392.184\n",
              "Sample:                    03-01-1995   HQIC                          2381.820\n",
              "                         - 12-01-2014                                         \n",
              "==================================================================================\n",
              "                     coef    std err          z      P>|z|      [0.025      0.975]\n",
              "----------------------------------------------------------------------------------\n",
              "const              0.0856      0.245      0.350      0.726      -0.394       0.565\n",
              "ar.L1.Spending    -0.3403      0.511     -0.666      0.505      -1.342       0.661\n",
              "ma.L1.Spending    -0.6451      0.521     -1.237      0.216      -1.667       0.377\n",
              "ma.L2.Spending    -0.2139      0.485     -0.441      0.659      -1.165       0.737\n",
              "                                    Roots                                    \n",
              "=============================================================================\n",
              "                  Real          Imaginary           Modulus         Frequency\n",
              "-----------------------------------------------------------------------------\n",
              "AR.1           -2.9388           +0.0000j            2.9388            0.5000\n",
              "MA.1            1.1281           +0.0000j            1.1281            0.0000\n",
              "MA.2           -4.1440           +0.0000j            4.1440            0.5000\n",
              "-----------------------------------------------------------------------------\n",
              "\"\"\""
            ]
          },
          "metadata": {
            "tags": []
          },
          "execution_count": 34
        }
      ]
    },
    {
      "cell_type": "code",
      "metadata": {
        "id": "6BB1OxBcyEql",
        "colab_type": "code",
        "colab": {}
      },
      "source": [
        "start = len(train)\n",
        "end = len(train) + len(test) - 1\n",
        "z2 = results.predict(start=start, end=end).rename('Spending')\n",
        "z2 = pd.DataFrame(z2)"
      ],
      "execution_count": 35,
      "outputs": []
    },
    {
      "cell_type": "code",
      "metadata": {
        "id": "3hycJ1p_yO81",
        "colab_type": "code",
        "colab": {}
      },
      "source": [
        "z2['Spending1D'] = (df['Spending'].iloc[-nobs-1]-df['Spending'].iloc[-nobs-2]) + z2['Spending'].cumsum()\n",
        "\n",
        "z2['SpendingForecast'] = df['Spending'].iloc[-nobs-1] + z2['Spending1D'].cumsum()"
      ],
      "execution_count": 37,
      "outputs": []
    },
    {
      "cell_type": "code",
      "metadata": {
        "id": "3RXxHrv-y7Fw",
        "colab_type": "code",
        "colab": {
          "base_uri": "https://localhost:8080/",
          "height": 426
        },
        "outputId": "21d0444c-7bb4-4a57-8e9f-c57fb1fba761"
      },
      "source": [
        "z2"
      ],
      "execution_count": 38,
      "outputs": [
        {
          "output_type": "execute_result",
          "data": {
            "text/html": [
              "<div>\n",
              "<style scoped>\n",
              "    .dataframe tbody tr th:only-of-type {\n",
              "        vertical-align: middle;\n",
              "    }\n",
              "\n",
              "    .dataframe tbody tr th {\n",
              "        vertical-align: top;\n",
              "    }\n",
              "\n",
              "    .dataframe thead th {\n",
              "        text-align: right;\n",
              "    }\n",
              "</style>\n",
              "<table border=\"1\" class=\"dataframe\">\n",
              "  <thead>\n",
              "    <tr style=\"text-align: right;\">\n",
              "      <th></th>\n",
              "      <th>Spending</th>\n",
              "      <th>Spending1D</th>\n",
              "      <th>SpendingForecast</th>\n",
              "    </tr>\n",
              "  </thead>\n",
              "  <tbody>\n",
              "    <tr>\n",
              "      <th>2015-01-01</th>\n",
              "      <td>33.555877</td>\n",
              "      <td>44.155877</td>\n",
              "      <td>12106.155877</td>\n",
              "    </tr>\n",
              "    <tr>\n",
              "      <th>2015-02-01</th>\n",
              "      <td>-3.338288</td>\n",
              "      <td>40.817589</td>\n",
              "      <td>12146.973466</td>\n",
              "    </tr>\n",
              "    <tr>\n",
              "      <th>2015-03-01</th>\n",
              "      <td>1.250691</td>\n",
              "      <td>42.068280</td>\n",
              "      <td>12189.041745</td>\n",
              "    </tr>\n",
              "    <tr>\n",
              "      <th>2015-04-01</th>\n",
              "      <td>-0.310820</td>\n",
              "      <td>41.757460</td>\n",
              "      <td>12230.799206</td>\n",
              "    </tr>\n",
              "    <tr>\n",
              "      <th>2015-05-01</th>\n",
              "      <td>0.220522</td>\n",
              "      <td>41.977982</td>\n",
              "      <td>12272.777188</td>\n",
              "    </tr>\n",
              "    <tr>\n",
              "      <th>2015-06-01</th>\n",
              "      <td>0.039720</td>\n",
              "      <td>42.017702</td>\n",
              "      <td>12314.794890</td>\n",
              "    </tr>\n",
              "    <tr>\n",
              "      <th>2015-07-01</th>\n",
              "      <td>0.101242</td>\n",
              "      <td>42.118945</td>\n",
              "      <td>12356.913835</td>\n",
              "    </tr>\n",
              "    <tr>\n",
              "      <th>2015-08-01</th>\n",
              "      <td>0.080308</td>\n",
              "      <td>42.199253</td>\n",
              "      <td>12399.113088</td>\n",
              "    </tr>\n",
              "    <tr>\n",
              "      <th>2015-09-01</th>\n",
              "      <td>0.087431</td>\n",
              "      <td>42.286684</td>\n",
              "      <td>12441.399772</td>\n",
              "    </tr>\n",
              "    <tr>\n",
              "      <th>2015-10-01</th>\n",
              "      <td>0.085007</td>\n",
              "      <td>42.371692</td>\n",
              "      <td>12483.771463</td>\n",
              "    </tr>\n",
              "    <tr>\n",
              "      <th>2015-11-01</th>\n",
              "      <td>0.085832</td>\n",
              "      <td>42.457524</td>\n",
              "      <td>12526.228987</td>\n",
              "    </tr>\n",
              "    <tr>\n",
              "      <th>2015-12-01</th>\n",
              "      <td>0.085552</td>\n",
              "      <td>42.543075</td>\n",
              "      <td>12568.772063</td>\n",
              "    </tr>\n",
              "  </tbody>\n",
              "</table>\n",
              "</div>"
            ],
            "text/plain": [
              "             Spending  Spending1D  SpendingForecast\n",
              "2015-01-01  33.555877   44.155877      12106.155877\n",
              "2015-02-01  -3.338288   40.817589      12146.973466\n",
              "2015-03-01   1.250691   42.068280      12189.041745\n",
              "2015-04-01  -0.310820   41.757460      12230.799206\n",
              "2015-05-01   0.220522   41.977982      12272.777188\n",
              "2015-06-01   0.039720   42.017702      12314.794890\n",
              "2015-07-01   0.101242   42.118945      12356.913835\n",
              "2015-08-01   0.080308   42.199253      12399.113088\n",
              "2015-09-01   0.087431   42.286684      12441.399772\n",
              "2015-10-01   0.085007   42.371692      12483.771463\n",
              "2015-11-01   0.085832   42.457524      12526.228987\n",
              "2015-12-01   0.085552   42.543075      12568.772063"
            ]
          },
          "metadata": {
            "tags": []
          },
          "execution_count": 38
        }
      ]
    },
    {
      "cell_type": "code",
      "metadata": {
        "id": "FYAkcFF1y7p5",
        "colab_type": "code",
        "colab": {
          "base_uri": "https://localhost:8080/",
          "height": 52
        },
        "outputId": "a8bdee44-fefd-4a4f-fd38-050c0f036942"
      },
      "source": [
        "RMSE4 = rmse(df['Spending'][-nobs:], z2['SpendingForecast'])\n",
        "\n",
        "print(f'Spending VARMA(1,2) RMSE: {RMSE2:.3f}')\n",
        "print(f'Spending ARMA(1,2) RMSE: {RMSE4:.3f}')"
      ],
      "execution_count": 40,
      "outputs": [
        {
          "output_type": "stream",
          "text": [
            "Spending VARMA(1,2) RMSE: 243.398\n",
            "Spending ARMA(1,2) RMSE: 52.334\n"
          ],
          "name": "stdout"
        }
      ]
    },
    {
      "cell_type": "code",
      "metadata": {
        "id": "UcaQui-2zSmm",
        "colab_type": "code",
        "colab": {}
      },
      "source": [
        ""
      ],
      "execution_count": null,
      "outputs": []
    }
  ]
}